{
  "cells": [
    {
      "cell_type": "markdown",
      "metadata": {},
      "source": [
        "# NYC Taxi data using dask_cudf"
      ]
    },
    {
      "cell_type": "markdown",
      "metadata": {},
      "source": [
        "## Import cuxfilter"
      ]
    },
    {
      "cell_type": "code",
      "execution_count": null,
      "metadata": {},
      "outputs": [],
      "source": [
        "from cuxfilter import charts\n",
        "import cuxfilter\n",
        "from bokeh import palettes\n",
        "from cuxfilter.layouts import feature_and_double_base\n",
        "\n",
        "import cudf, dask_cudf\n",
        "\n",
        "from dask.distributed import Client, wait\n",
        "from dask_cuda import LocalCUDACluster\n",
        "\n",
        "cluster = LocalCUDACluster()\n",
        "client = Client(cluster)\n",
        "client"
      ]
    },
    {
      "cell_type": "code",
      "execution_count": null,
      "metadata": {},
      "outputs": [],
      "source": [
        "#update data_dir if you have downloaded datasets elsewhere\n",
        "DATA_DIR = './data'"
      ]
    },
    {
      "cell_type": "markdown",
      "metadata": {},
      "source": [
        "## Download required datasets"
      ]
    },
    {
      "cell_type": "code",
      "execution_count": null,
      "metadata": {},
      "outputs": [],
      "source": [
        "from cuxfilter.sampledata import datasets_check\n",
        "datasets_check('nyc_taxi', base_dir=DATA_DIR)"
      ]
    },
    {
      "cell_type": "markdown",
      "metadata": {},
      "source": [
        "## preprocess the data"
      ]
    },
    {
      "cell_type": "code",
      "execution_count": null,
      "metadata": {},
      "outputs": [],
      "source": [
        "cudf_df = cudf.read_csv(DATA_DIR + '/nyc_taxi.csv')\n",
        "\n",
        "from pyproj import Proj, Transformer\n",
        "\n",
        "# Apply transformation\n",
        "transform_4326_to_3857 = Transformer.from_crs('epsg:4326', 'epsg:3857')\n",
        "cudf_df['dropoff_x'], cudf_df['dropoff_y'] = transform_4326_to_3857.transform(\n",
        "                                                cudf_df['dropoff_latitude'].values_host, cudf_df['dropoff_longitude'].values_host\n",
        "                                            )\n",
        "\n",
        "cudf_df = cudf_df.drop(['dropoff_latitude', 'dropoff_longitude'], axis=1)\n",
        "cudf_df = cudf_df.dropna(axis=0)\n",
        "\n",
        "# Filter over Manhattan\n",
        "cudf_df = cudf_df[\n",
        "    (cudf_df.dropoff_x > -8239910.23) & (cudf_df.dropoff_x < -8229529.24) & (cudf_df.dropoff_y > 4968481.34) & (cudf_df.dropoff_y < 4983152.92)\n",
        "]\n",
        "\n",
        "cudf_df.tpep_pickup_datetime = cudf.to_datetime(cudf_df.tpep_pickup_datetime, format=\"%Y-%m-%d\")\n",
        "cudf_df.tpep_dropoff_datetime = cudf.to_datetime(cudf_df.tpep_dropoff_datetime, format=\"%Y-%m-%d\")\n",
        "cudf_df.head()"
      ]
    },
    {
      "cell_type": "markdown",
      "metadata": {},
      "source": [
        "## Convert cudf df to dask_cudf df"
      ]
    },
    {
      "cell_type": "code",
      "execution_count": null,
      "metadata": {},
      "outputs": [],
      "source": [
        "cudf_df = dask_cudf.from_cudf(cudf_df, npartitions=2).persist()"
      ]
    },
    {
      "cell_type": "markdown",
      "metadata": {},
      "source": [
        "## Read the dataset"
      ]
    },
    {
      "cell_type": "code",
      "execution_count": null,
      "metadata": {},
      "outputs": [],
      "source": [
        "cux_df = cuxfilter.DataFrame.from_dataframe(cudf_df)"
      ]
    },
    {
      "cell_type": "markdown",
      "metadata": {},
      "source": [
        "## Define charts"
      ]
    },
    {
      "cell_type": "markdown",
      "metadata": {},
      "source": [
        "Uncomment the below lines and replace MAPBOX_TOKEN with mapbox token string if you want to use mapbox map-tiles. Can be created for free here -https://www.mapbox.com/help/define-access-token/"
      ]
    },
    {
      "cell_type": "code",
      "execution_count": null,
      "metadata": {},
      "outputs": [],
      "source": [
        "#from cuxfilter.assets.custom_tiles import get_provider, Vendors\n",
        "#tile_provider = get_provider(Vendors.MAPBOX_LIGHT, access_token=MAPBOX_TOKEN)"
      ]
    },
    {
      "cell_type": "code",
      "execution_count": null,
      "metadata": {},
      "outputs": [],
      "source": [
        "chart1 = charts.scatter(x='dropoff_x',\n",
        "                         y='dropoff_y',\n",
        "                         aggregate_fn='mean',aggregate_col='payment_type', pixel_shade_type='log', legend_position='top_right',\n",
        "                         tile_provider=\"CartoLight\", x_range=(-8239910.23,-8229529.24), y_range=(4968481.34,4983152.92)), unselected_alpha=0.2\n",
        "\n",
        "chart2 = charts.bar('passenger_count', data_points=9)\n",
        "chart3 = cuxfilter.charts.bar('tpep_pickup_datetime')\n",
        "chart4 = cuxfilter.charts.date_range_slider('tpep_dropoff_datetime')"
      ]
    },
    {
      "cell_type": "markdown",
      "metadata": {},
      "source": [
        "## Create a dashboard object"
      ]
    },
    {
      "cell_type": "code",
      "execution_count": null,
      "metadata": {},
      "outputs": [],
      "source": [
        "d = cux_df.dashboard([chart1, chart2, chart3], sidebar=[chart4], layout=feature_and_double_base, theme=cuxfilter.themes.dark, title= 'NYC TAXI DATASET')"
      ]
    },
    {
      "cell_type": "markdown",
      "metadata": {},
      "source": [
        "## Starting the dashboard"
      ]
    },
    {
      "cell_type": "markdown",
      "metadata": {},
      "source": [
        "1. d.show('current_notebook_url:current_notebook_port') remote dashboard\n",
        "\n",
        "2. d.app() inline within the notebook cell\n",
        "\n",
        "Incase you need to stop the server:\n",
        "\n",
        "- d.stop()"
      ]
    },
    {
      "cell_type": "code",
      "execution_count": null,
      "metadata": {},
      "outputs": [],
      "source": [
        "#run dashboard inline within the notebook cell\n",
        "d.show()"
      ]
    },
    {
      "cell_type": "markdown",
      "metadata": {},
      "source": [
        "![nyc-taxi](../../../_images/nyc-taxi.png)"
      ]
    },
    {
      "cell_type": "markdown",
      "metadata": {},
      "source": [
        "## Export the queried data into a dataframe"
      ]
    },
    {
      "cell_type": "code",
      "execution_count": null,
      "metadata": {},
      "outputs": [],
      "source": [
        "queried_df = d.export()"
      ]
    }
  ],
  "metadata": {
    "kernelspec": {
      "display_name": "Python 3 (ipykernel)",
      "language": "python",
      "name": "python3"
    },
    "language_info": {
      "codemirror_mode": {
        "name": "ipython",
        "version": 3
      },
      "file_extension": ".py",
      "mimetype": "text/x-python",
      "name": "python",
      "nbconvert_exporter": "python",
      "pygments_lexer": "ipython3",
      "version": "3.10.12"
    }
  },
  "nbformat": 4,
  "nbformat_minor": 4
}
