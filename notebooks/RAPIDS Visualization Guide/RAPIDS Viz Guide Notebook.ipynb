{
 "cells": [
  {
   "cell_type": "markdown",
   "id": "57c640dc-5b87-4dac-9b1b-6857ea8543f3",
   "metadata": {},
   "source": [
    "<img src=\"https://github.com/jupytercon/2020-exactlyallan/raw/master/images/RAPIDS-header-graphic.png\" style=\"width:50%\">\n"
   ]
  },
  {
   "cell_type": "markdown",
   "id": "5f12b672-385e-4586-aff1-3b0eca6c5fd0",
   "metadata": {},
   "source": [
    "# RAPIDS Visualization Guide Notebook\n",
    "### A Streamlined Guide to RAPIDS Accelerated Visualization and Visual Analtyics\n",
    "The guide will walk through using RAPIDS [cuDF](https://github.com/rapidsai/cudf), [cuSpatial](https://github.com/rapidsai/cuspatial), [cuML](https://github.com/rapidsai/cuml), [cuGraph](https://github.com/rapidsai/cugraph) and [cuxfilter](https://github.com/rapidsai/cuxfilter), with [hvPlot](https://hvplot.holoviz.org/), [Datashader](https://datashader.org/), and [Plotly Dash](https://github.com/plotly/dash) with the publicly available [Divvy Bike share dataset](https://divvybikes.com/system-data)."
   ]
  },
  {
   "cell_type": "markdown",
   "id": "43bb381b-523f-4dd6-9918-859a09a02780",
   "metadata": {
    "tags": []
   },
   "source": [
    "<img src=\"images/cuxfilter-graph.png\" style=\"width:50%\">"
   ]
  },
  {
   "cell_type": "markdown",
   "id": "1b066857-8050-4d13-b104-2515abf79ac3",
   "metadata": {
    "jp-MarkdownHeadingCollapsed": true
   },
   "source": [
    "## Requirements\n",
    "System that meets the [RAPIDS system and GPU requirements](https://docs.rapids.ai/install#system-req)"
   ]
  },
  {
   "cell_type": "markdown",
   "id": "4fe1c86e-a986-4b72-8be2-acc3fa6d6456",
   "metadata": {
    "tags": []
   },
   "source": [
    "## Dependencies\n",
    "Use the below to install all the required dependencies in your preferred environment.\n"
   ]
  },
  {
   "cell_type": "code",
   "execution_count": null,
   "id": "0c1f3bef-c71f-496b-99d4-ac00a33001c8",
   "metadata": {
    "tags": []
   },
   "outputs": [],
   "source": [
    "# NOTE: Requires Jupyter lab 3.6.4 and RAPIDS 23.06\n",
    "\n",
    "# sys imports\n",
    "import os\n",
    "from zipfile import ZipFile\n",
    "from pathlib import Path\n",
    "import math\n",
    "\n",
    "# rapids\n",
    "import cudf\n",
    "import cuspatial\n",
    "import cugraph\n",
    "import cuml\n",
    "import cuxfilter\n",
    "import cupy\n",
    "\n",
    "# holoviz and geo\n",
    "from bokeh.models import NumeralTickFormatter\n",
    "import hvplot.cudf \n",
    "hvplot.extension('bokeh')\n",
    "import colorcet\n",
    "import panel as pn\n",
    "import geoviews\n",
    "import cartopy\n",
    "from pyproj import Proj, Transformer\n",
    "\n",
    "# plotly\n",
    "import plotly.graph_objects as go\n",
    "import plotly.express as px\n",
    "from jupyter_dash import JupyterDash\n",
    "from dash import Dash, html, dcc, callback, Output, Input, ctx\n",
    "from dash.exceptions import PreventUpdate\n",
    "\n"
   ]
  },
  {
   "cell_type": "markdown",
   "id": "b146dd4f-ff98-4754-80cb-99ac91a7e8e4",
   "metadata": {},
   "source": [
    "## Download Dataset\n",
    "The dataset can be downloaded from the [Divvy Bike Share public dataset](https://divvybikes.com/system-data). Use the following cell to download data for the desired date range and load it into a dataframe. You can also download the data manually. \n",
    "\n",
    "**NOTE:** 2021 + 2022 full year datasets have over 11,000,000 trips and may use up to 24GB of GPU memory."
   ]
  },
  {
   "cell_type": "code",
   "execution_count": null,
   "id": "bd79769c-6851-4071-b68c-adc95a410d90",
   "metadata": {
    "tags": []
   },
   "outputs": [],
   "source": [
    "# Define the URL of the Divvy trip data and save dir\n",
    "S3 = 'https://divvy-tripdata.s3.amazonaws.com/'\n",
    "DATA_DIR = './data'"
   ]
  },
  {
   "cell_type": "code",
   "execution_count": null,
   "id": "d629d330-6271-47dd-8168-f7ada5a8ef26",
   "metadata": {
    "tags": []
   },
   "outputs": [],
   "source": [
    "# Check for data directory\n",
    "Path(DATA_DIR).mkdir(parents=True, exist_ok=True)\n",
    "\n",
    "'''\n",
    "# Download the zip files from the URL within date range and unzip\n",
    "# NOTE: 2021 + 2022 dataset is over 11M trips, which requires at least a 24GB GPU\n",
    "for year in range(2021, 2023):\n",
    "    for month in range(1, 13):\n",
    "        file = f'{year}{month:02d}-divvy-tripdata.zip'\n",
    "        URL = f'{S3}{file}'\n",
    "        ! wget -P {DATA_DIR} {URL}\n",
    "     \n",
    "        with ZipFile(f'{DATA_DIR}/{file}') as zip:\n",
    "            zip.extractall(f'{DATA_DIR}')\n",
    "'''"
   ]
  },
  {
   "cell_type": "markdown",
   "id": "c934b0cd-0525-421d-aed7-4fd8bd3644af",
   "metadata": {},
   "source": [
    "### Load into cuDF"
   ]
  },
  {
   "cell_type": "code",
   "execution_count": null,
   "id": "7e90bc57-8e33-40fb-8752-5b82672c6374",
   "metadata": {
    "tags": []
   },
   "outputs": [],
   "source": [
    "# Load all individual csv files as dataframes and combine into one cudf\n",
    "df_array = []\n",
    "\n",
    "for file in Path(DATA_DIR).rglob('20*.csv'):\n",
    "    gdf = cudf.read_csv(file)\n",
    "    df_array.append(gdf)\n",
    "\n",
    "df = cudf.concat(df_array)\n",
    "\n",
    "# Check the data\n",
    "df.reset_index()"
   ]
  },
  {
   "cell_type": "markdown",
   "id": "01a6f758-6a82-4d4c-a802-6f4b41490f04",
   "metadata": {},
   "source": [
    "## Reformat and Clean Data"
   ]
  },
  {
   "cell_type": "markdown",
   "id": "483b8cb2-af3e-4777-a4f4-7b8cece0ab6c",
   "metadata": {},
   "source": [
    "The data seems unreasonabliy clean, but there are still a few things we should fix. Lets check for blanks and nulls."
   ]
  },
  {
   "cell_type": "code",
   "execution_count": null,
   "id": "b82eae3a-db19-4eeb-8926-e98dfaa8500a",
   "metadata": {
    "tags": []
   },
   "outputs": [],
   "source": [
    "df.isnull().sum()\n"
   ]
  },
  {
   "cell_type": "code",
   "execution_count": null,
   "id": "c1d35079-21f5-4402-8ca6-30d942d300a0",
   "metadata": {
    "tags": []
   },
   "outputs": [],
   "source": [
    "# Drop end_lat nulls, we will look into station names later\n",
    "df = df.dropna(subset=['end_lat'])\n",
    "df.isnull().sum()"
   ]
  },
  {
   "cell_type": "code",
   "execution_count": null,
   "id": "0b79c776-0b90-4ea3-b91c-110e785e96d8",
   "metadata": {
    "tags": []
   },
   "outputs": [],
   "source": [
    "# Replace null values in 'start_station_id' with 'none'\n",
    "df['start_station_name'] = df['start_station_name'].fillna('none')\n",
    "\n",
    "# Replace null values in 'end_station_id' with 'none'\n",
    "df['end_station_name'] = df['end_station_name'].fillna('none')\n"
   ]
  },
  {
   "cell_type": "code",
   "execution_count": null,
   "id": "36e01f27-e027-41f7-b3d2-3ceee1d2a81f",
   "metadata": {
    "tags": []
   },
   "outputs": [],
   "source": [
    "# Since this is only for the Chicago area, lets remove any odd out of area lat/lng values\n",
    "min_lat = 41.5\n",
    "max_lat = 42.5\n",
    "min_lng = -88.0\n",
    "max_lng = -87.0\n",
    "\n",
    "df = df[(df['start_lat'] >= min_lat) & (df['start_lat'] <= max_lat) & (df['start_lng'] >= min_lng) & (df['start_lng'] <= max_lng) & \n",
    "                (df['end_lat'] >= min_lat) & (df['end_lat'] <= max_lat) & (df['end_lng'] >= min_lng) & (df['end_lng'] <= max_lng)]"
   ]
  },
  {
   "cell_type": "code",
   "execution_count": null,
   "id": "180d34e4-48ee-4fc3-bf3f-a995e2a78f4a",
   "metadata": {},
   "outputs": [],
   "source": [
    "# Lets check for correct data types\n",
    "df.dtypes"
   ]
  },
  {
   "cell_type": "code",
   "execution_count": null,
   "id": "2003ee40-ac66-41c5-b23a-98bd984e01ab",
   "metadata": {
    "tags": []
   },
   "outputs": [],
   "source": [
    "# Convert started_at and ended_at into datetimes \n",
    "df['started_at'] = cudf.to_datetime(df['started_at'])\n",
    "df['ended_at'] = cudf.to_datetime(df['ended_at'])"
   ]
  },
  {
   "cell_type": "code",
   "execution_count": null,
   "id": "79dc170a-7d53-4631-8289-4da7d977800f",
   "metadata": {},
   "outputs": [],
   "source": [
    "# Extract values out of date time for easier filtering, assuming we just care about start times \n",
    "df['year'] = df['started_at'].dt.year\n",
    "df['month'] = df['started_at'].dt.month\n",
    "df['day'] = df['started_at'].dt.day\n",
    "df['hour'] = df['started_at'].dt.hour\n",
    "df['day_of_week'] = df['started_at'].dt.dayofweek\n"
   ]
  },
  {
   "cell_type": "code",
   "execution_count": null,
   "id": "48228be8-06b2-413a-9bd3-f3ad31756900",
   "metadata": {
    "tags": []
   },
   "outputs": [],
   "source": [
    "# Calculate trip duration in minutes\n",
    "df['dur_min'] = (df['ended_at'] - df['started_at'])\n",
    "df['dur_min'] = (df['dur_min'].dt.seconds / 60).round().astype('float32') # Note: Float32 needed for cuML KDE\n"
   ]
  },
  {
   "cell_type": "code",
   "execution_count": null,
   "id": "c066f4eb-47b5-45f0-aed9-8dfd8ac8d4b8",
   "metadata": {
    "tags": []
   },
   "outputs": [],
   "source": [
    "# Do some minor cleanup for cols we will not need\n",
    "df = df.drop(['ride_id','started_at','ended_at','start_station_id','end_station_id'], axis=1).reset_index(drop=True)\n",
    "df"
   ]
  },
  {
   "cell_type": "markdown",
   "id": "0fce119a-0bcd-44b0-a175-1038c9d1b6e7",
   "metadata": {},
   "source": [
    "## Start Visualizing "
   ]
  },
  {
   "cell_type": "code",
   "execution_count": null,
   "id": "5a3333a3-4e3b-4ac6-8ac7-4d8ad061e43b",
   "metadata": {},
   "outputs": [],
   "source": [
    "# Simple groupby to see members vs casual users trips\n",
    "rider_type = df.groupby('member_casual').size().rename(\"count\").reset_index()\n",
    "rider_type\n"
   ]
  },
  {
   "cell_type": "markdown",
   "id": "feb21d4d-3f7b-42d7-8777-7ea765d645dd",
   "metadata": {},
   "source": [
    "### Using hvPlot bar, line, and heatmaps"
   ]
  },
  {
   "cell_type": "code",
   "execution_count": null,
   "id": "55402bd7-bdfa-432b-9494-37717f4d7c57",
   "metadata": {
    "tags": []
   },
   "outputs": [],
   "source": [
    "# Using hvplot is as simple as replacing the typical pandas.plot() with .hvplot(). \n",
    "# Often hvplot will be able to deduce chart types from the data.\n",
    "# You can also directly specify charst with '.hvplot.bar()' inline or as '.hvplot(kind='bar')\n",
    "rider_type.hvplot.bar(x='member_casual', y='count', title='Total Rider Types', yformatter='%0.0f')"
   ]
  },
  {
   "cell_type": "code",
   "execution_count": null,
   "id": "23cd05a8-d5b7-4925-9dae-8ec4302ecaaf",
   "metadata": {
    "tags": []
   },
   "outputs": [],
   "source": [
    "# Now lets check bike type counts\n",
    "bike_type = df.groupby('rideable_type').size().rename('count').reset_index()\n",
    "bike_type.hvplot.bar(x='rideable_type', y='count', title='Total Bike Types', yformatter='%0.0f')"
   ]
  },
  {
   "cell_type": "markdown",
   "id": "165e1c7b-8386-4312-9420-c3528503941a",
   "metadata": {},
   "source": [
    "### Preattentive Visual Processing\n",
    "Even for simple multi column values, using bar charts makes noticing the magnitude difference in values much more apparent. This is because of a concept called [preattentive visual processing](https://www.interaction-design.org/literature/article/preattentive-visual-properties-and-how-to-use-them-in-information-visualization), which acts as a hack for your brain to understand large amounts of data quickly.\n",
    "\n",
    "Using [appropriate data visualization design principles](https://flowingdata.com/data-points/) can help you effectively leverage this latent ability and is one of the reasons visualization is a powerful tool in data analysis. "
   ]
  },
  {
   "cell_type": "code",
   "execution_count": null,
   "id": "6377f003-ad07-440a-aac5-f228e1e30323",
   "metadata": {
    "tags": []
   },
   "outputs": [],
   "source": [
    "# Lets dig more into the data\n",
    "# NOTE: Day of week mapping is 0:'Mon', 1:'Tue', 2:'Wed', 3:'Th', 4:'Fri', 5:'Sat', 6:'Sun'\n",
    "day_counts = df.groupby('day_of_week').size().rename('count').reset_index().sort_values('day_of_week')\n",
    "day_counts.hvplot.bar('day_of_week', 'count', title=\"Trip starts per Week Day\", yformatter=\"%0.0f\")\n"
   ]
  },
  {
   "cell_type": "code",
   "execution_count": null,
   "id": "beb66168-3cae-4c0f-b598-91e3cee96a6c",
   "metadata": {
    "tags": []
   },
   "outputs": [],
   "source": [
    "# Using hvplot for histograms, its easy to set bin sizes\n",
    "df.hvplot.hist(y='dur_min', bins=20, title=\"Trips Duration Histrogram\", yformatter=\"%0.0f\")"
   ]
  },
  {
   "cell_type": "markdown",
   "id": "d25c6441-b1ef-4ef7-9376-1c6c274ed7d8",
   "metadata": {},
   "source": [
    "### Using cuML + KDE"
   ]
  },
  {
   "cell_type": "code",
   "execution_count": null,
   "id": "fba2b040-9a22-495c-847b-47275f51a141",
   "metadata": {
    "tags": []
   },
   "outputs": [],
   "source": [
    "# While we can increase the plot bin size, lets verify the distribution with KDE\n",
    "# Options: start, end, step size\n",
    "dur_range = cupy.arange(1.0, 400.0, 5.0)\n",
    "kde = cuml.KernelDensity(kernel='gaussian', bandwidth=3).fit(df['dur_min'])\n",
    "log_density_values = kde.score_samples(dur_range)\n",
    "density_values = cupy.exp(log_density_values)\n",
    "\n",
    "# create a dataframe\n",
    "density_df = cudf.DataFrame({'duration': dur_range, 'density': density_values})\n",
    "\n",
    "# plot using hvplot\n",
    "density_df.hvplot.line(x='duration', y='density', xlabel='Data', ylabel='Density', title='Duration in min KDE')\n"
   ]
  },
  {
   "cell_type": "code",
   "execution_count": null,
   "id": "85d3ad4c-1114-43e7-a57c-494923dee7db",
   "metadata": {},
   "outputs": [],
   "source": [
    "# That is a very long tail of long rides. 1440 min seems to be a cap at 24 hours. \n",
    "df.loc[df['dur_min'].argsort().tail(200)]"
   ]
  },
  {
   "cell_type": "code",
   "execution_count": null,
   "id": "d34c450d-2674-4fb6-ab82-e017afa9847c",
   "metadata": {
    "tags": []
   },
   "outputs": [],
   "source": [
    "# Group trips by hour and average duration\n",
    "trips_by_hour = df.groupby('hour').size().rename('count').reset_index().sort_values('hour')\n",
    "avg_duration_by_hour = df.groupby('hour')['dur_min'].mean().rename('duration_mean').reset_index().sort_values('hour')\n",
    "\n",
    "# Add the charts side by side with the + operator\n",
    "trips_by_hour.hvplot.bar('hour', 'count', title=\"Trip Starts per Hour\", yformatter=\"%0.0f\") + avg_duration_by_hour.hvplot.bar('hour', 'duration_mean', title=\"Trip Duration per Hour\", yformatter=\"%0.0f\") "
   ]
  },
  {
   "cell_type": "code",
   "execution_count": null,
   "id": "e435462c-3c86-4dfa-a37d-8e5de30fe8c7",
   "metadata": {
    "tags": []
   },
   "outputs": [],
   "source": [
    "# There appears to be an abnormal amount of long trip durations late into the night.\n",
    "# Lets filter our excessively long trips (or forgotten bikes) to the start of the long tail\n",
    "trips_by_hour_300 = df[df['dur_min'] <= 300].groupby('hour').size().rename('count').reset_index().sort_values('hour')\n",
    "avg_duration_by_hour_300 = df[df['dur_min'] <= 300].groupby('hour')['dur_min'].mean().rename('duration_mean').reset_index().sort_values('hour')\n",
    "\n",
    "# Plot again\n",
    "trips_by_hour_300.hvplot.bar('hour', 'count', title=\"Trip Starts per Hour (under 300min)\", yformatter=\"%0.0f\") + avg_duration_by_hour_300.hvplot.bar('hour', 'duration_mean', title=\"Trip Duration per Hour (under 300min)\", yformatter=\"%0.0f\") "
   ]
  },
  {
   "cell_type": "code",
   "execution_count": null,
   "id": "543ee621-ca0c-4a90-9bad-2db0dbad856a",
   "metadata": {
    "tags": []
   },
   "outputs": [],
   "source": [
    "# Lets group data by day_of_week and hour, then count the number of rows in each group\n",
    "heatmap_data_dw = df.groupby(['day_of_week','hour']).size().rename('count').reset_index()\n",
    "\n",
    "# HvPlot heatmap\n",
    "heatmap_data_dw.hvplot.heatmap(x='day_of_week', y='hour', C='count', title=\"Trips by Hour and Day of Week\") "
   ]
  },
  {
   "cell_type": "code",
   "execution_count": null,
   "id": "dd8d235c-2175-4126-8f98-d2c660b7e280",
   "metadata": {
    "tags": []
   },
   "outputs": [],
   "source": [
    "# Lets break the group data by month, day_of_week and hour, then count the number of rows in each group\n",
    "heatmap_data_dwm = df.groupby(['month','day_of_week','hour']).size().rename('count').reset_index()\n",
    "\n",
    "# By adding the 'groupby' option to our month value, hvPlot automatically adds a widget so we can slide through each month\n",
    "# We can see there are distinct patterns of increased weekend use during the warmer months, but a pretty consistent use during weekend commute hours\n",
    "heatmap_data_dwm.hvplot.heatmap(x='day_of_week', y='hour', C='count', groupby='month', widget_location='left_top', title=\"Trips by Hour and Day of Week per Month\")"
   ]
  },
  {
   "cell_type": "markdown",
   "id": "43c51f53-6c25-44b2-bda4-7fb14ca61216",
   "metadata": {},
   "source": [
    "### Using hvPlot geospatial maps"
   ]
  },
  {
   "cell_type": "code",
   "execution_count": null,
   "id": "193f5c75-e8d5-486d-b104-186579c13549",
   "metadata": {
    "tags": []
   },
   "outputs": [],
   "source": [
    "# Lets verify the lat/lng data is good by using hvplot 'geo=True' option with a hexbin map\n",
    "# Gridsize adjust the hex bin sizing, and cmap is color scale. We are using perceptually accurate colorcet presets: https://colorcet.holoviz.org/\n",
    "# The list of available tiles are here: https://holoviews.org/reference/elements/bokeh/Tiles.html\n",
    "# The map seems to match that of the system data: https://account.divvybikes.com/map\n",
    "\n",
    "trip_starts = df.hvplot.hexbin(x='start_lng', y='start_lat', cmap=colorcet.bgy, geo=True, tiles=\"OSM\", logz=False, gridsize=150, width=700, height=600, title=\"Trip Start Counts\") \n",
    "trip_ends = df.hvplot.hexbin(x='end_lng', y='end_lat', geo=True, cmap=colorcet.bgy, tiles=\"OSM\", logz=False, gridsize=150, width=700, height=600, title=\"Trip End Counts\")\n",
    "trip_starts + trip_ends"
   ]
  },
  {
   "cell_type": "markdown",
   "id": "b04800a0-a1fc-443f-87a2-332e2b0ca6b7",
   "metadata": {},
   "source": [
    "### Using cuSpatial"
   ]
  },
  {
   "cell_type": "code",
   "execution_count": null,
   "id": "3e287d6a-ee14-49aa-a40e-26091f39cd43",
   "metadata": {
    "tags": []
   },
   "outputs": [],
   "source": [
    "# Using cuSpatial, we can calculate distances from two points\n",
    "# Create a cuSpatial GeoSeries from the latitude and longitude columns\n",
    "start_points = cuspatial.GeoSeries.from_points_xy(df[['start_lng','start_lat']].interleave_columns().astype(\"float64\"))\n",
    "end_points = cuspatial.GeoSeries.from_points_xy(df[['end_lng','end_lat']].interleave_columns().astype(\"float64\"))\n",
    "\n",
    "# Calculate distance\n",
    "distances_in_km = cuspatial.haversine_distance(start_points, end_points)\n",
    "\n",
    "# Add the distances back into the dataframe, convert from KM to M, and rounding values to make it more obvious if the stopped at the same place it started\n",
    "dist_m = cudf.Series(distances_in_km).values * 1000\n",
    "df['dist_m'] = dist_m.round().astype('int32')\n",
    "df"
   ]
  },
  {
   "cell_type": "code",
   "execution_count": null,
   "id": "2e97b9b4-9ca8-48dd-a1ad-6e16815788b8",
   "metadata": {
    "tags": []
   },
   "outputs": [],
   "source": [
    "# By comparing distance, lets quickly compare how many trips start and end at the same spot. Interestingly, electric bikes dont dramatically increase distance traveled. \n",
    "# Including the 'by' term creates a stacked bar chart. Clicking on the legend will show/hide values. \n",
    "returns = df.hvplot.hist(y='dist_m', by='rideable_type', bins=80, title=\"Trips Distance By Type\", yformatter=\"%0.0f\")\n",
    "no_returns = df[df['dist_m'] > 0].hvplot.hist(y='dist_m', by='rideable_type', bins=80, title=\"Trips Distance By Type ( W/O Returns)\", yformatter=\"%0.0f\")\n",
    "\n",
    "returns + no_returns"
   ]
  },
  {
   "cell_type": "markdown",
   "id": "48d37dc3-149c-443a-a996-55e5f2bd8bf4",
   "metadata": {},
   "source": [
    "### Using cuxfilter dashboards"
   ]
  },
  {
   "cell_type": "code",
   "execution_count": null,
   "id": "756a0da3-6de6-4c8d-9b38-cae0b99ad660",
   "metadata": {
    "tags": []
   },
   "outputs": [],
   "source": [
    "# FIX-NOTE: adding extension here explicitly RELOADS bokeh js and css so cuxfilter plots work\n",
    "hvplot.extension('bokeh')"
   ]
  },
  {
   "cell_type": "code",
   "execution_count": null,
   "id": "0465dc8d-232b-4cd7-a5f8-2ada612b275f",
   "metadata": {
    "tags": []
   },
   "outputs": [],
   "source": [
    "# Having multiple cross-filtered charts allow for quick discovery of patterns without manually configuring individual queries.\n",
    "# cuxfilter is specifically designed for creating cross filtering dashboards quickly\n",
    "# By clicking through various ranges, a distinct pattern between weekday-weekend, as well as day-evenings emerges. \n",
    "\n",
    "# Load the data\n",
    "cux_df = cuxfilter.DataFrame.from_dataframe(df)\n",
    "\n",
    "# Chart options\n",
    "charts = [\n",
    "    cuxfilter.charts.bar('dist_m', data_points=20 , title='Distance in M'),\n",
    "    cuxfilter.charts.bar('dur_min', data_points=20 , title='Duration in Min'),\n",
    "    cuxfilter.charts.bar('day_of_week', title='Day of Week'),\n",
    "    cuxfilter.charts.bar('hour', title='Trips per Hour'),\n",
    "    cuxfilter.charts.bar('day', title='Trips per Day'),\n",
    "    cuxfilter.charts.bar('month', title='Trips per Month')\n",
    "]\n",
    "\n",
    "# Elements for the side panel\n",
    "widgets = [\n",
    "    cuxfilter.charts.multi_select('year')\n",
    "]\n",
    "\n",
    "# Generate the dashboard with selected layout and theme\n",
    "d = cux_df.dashboard(charts, sidebar=widgets, layout=cuxfilter.layouts.two_by_three, theme=cuxfilter.themes.rapids, title='Bike Trips Dashboard')\n",
    "\n",
    "# Update the yaxis ticker to a more readable format\n",
    "for i in charts:\n",
    "    if hasattr(i.chart, 'yaxis'):\n",
    "        i.chart.yaxis.formatter = NumeralTickFormatter(format=\"0,0\")\n",
    "\n",
    "\n",
    "# d.show creates a button to open a dashboard in a full seperate tab\n",
    "# await d.preview() generates an static image preview\n",
    "# d.app() opens the app inline of the notebook\n",
    "# d.stop() stops the dashboard\n",
    "d.show()\n"
   ]
  },
  {
   "cell_type": "markdown",
   "id": "7277700b-016d-4812-922e-95fa29489b7d",
   "metadata": {
    "tags": []
   },
   "source": [
    "### cuxfilter dashboard screenshot\n",
    "<img src=\"images/cuxfilter-bars.png\" style=\"width:50%\">"
   ]
  },
  {
   "cell_type": "markdown",
   "id": "2b60801d-cab3-4e6f-98af-c83267ca5c5e",
   "metadata": {},
   "source": [
    "### Using hvPlot + Datashader + Panel"
   ]
  },
  {
   "cell_type": "code",
   "execution_count": null,
   "id": "a84771ef-1bec-4291-a983-a4f110cafa66",
   "metadata": {
    "tags": []
   },
   "outputs": [],
   "source": [
    "# Checking below, there are more trip start locations then stations, so bikes must be able to start and stop outside of stations. \n",
    "print(\"Unique start station names: %d\" % df['start_station_name'].unique().size)\n",
    "print(\"Unique rounded start latitudes: %d\" % df['start_lat'].round(4).unique().size)"
   ]
  },
  {
   "cell_type": "code",
   "execution_count": null,
   "id": "5dd20b7f-3d83-4609-a4bd-88e44022b647",
   "metadata": {
    "tags": []
   },
   "outputs": [],
   "source": [
    "# Rendering every individual point for large datasets is usually prohibitively slow, but by using datashader with hvPlot via 'datashade=True' the points are interactively aggregated.\n",
    "# Setting 'dynspread=True' enlarges individual points so they are more visible. \n",
    "# Though its useful for creating full data apps, panel can also be used for some layout help: https://panel.holoviz.org/\n",
    "# Trips, while clustered, seem to disperse.\n",
    "\n",
    "# Create two datashader charts side by side\n",
    "start_elec = df.hvplot.points(x='start_lng', y='start_lat', geo=True, tiles=\"CartoDark\", width=700, height=500, datashade=True, dynspread=True, title=\"Trip Starts\") \n",
    "end_elec = df.hvplot.points(x='end_lng', y='end_lat', geo=True, tiles=\"CartoDark\", width=700, height=500, datashade=True, dynspread=True, title=\"Trip Stops\") \n",
    "elec_row = pn.Row(start_elec, end_elec)\n",
    "elec_row "
   ]
  },
  {
   "cell_type": "code",
   "execution_count": null,
   "id": "e7110bd7-fd56-4b04-a235-7e4699dd9d86",
   "metadata": {
    "tags": []
   },
   "outputs": [],
   "source": [
    "# Lets investigate further by getting a df of the station names\n",
    "# Remove none\n",
    "start_stations = df[df['end_station_name'] != 'none']\n",
    "\n",
    "# Drop duplicates\n",
    "unique_stations = start_stations.drop_duplicates(subset='end_station_name')\n"
   ]
  },
  {
   "cell_type": "code",
   "execution_count": null,
   "id": "322633a2-9fad-4f20-a0a6-df53d3c2e828",
   "metadata": {
    "tags": []
   },
   "outputs": [],
   "source": [
    "# Lets overlay station points with bike trips, using trip ends since it's more dispersed. Clearly a bike trip has no guarantee that it will start or end near a station. \n",
    "# Since there are only a few hundred stations we can use the standard hvPoint point rendering. For the trips, we will use 'rasterize=True' which does not aggregate points but shows them in a flattened manner.\n",
    "# NOTE: Since using the * operator combines charts, only one chart needs tiles enabled otherwise it would cover the data.\n",
    "raster = df.hvplot.points(x='end_lng', y='end_lat', geo=True, tiles='CartoDark', projection=cartopy.crs.GOOGLE_MERCATOR, hover=True, width=700, height=500, rasterize=True)\n",
    "station_points = unique_stations.hvplot.points(x='end_lng', y='end_lat', geo=True, tiles=False, projection=cartopy.crs.GOOGLE_MERCATOR, hover=False, width=700, height=500, color='red', alpha=0.5)\n",
    "\n",
    "raster * station_points"
   ]
  },
  {
   "cell_type": "markdown",
   "id": "fa42c9cb-5ef1-4f21-8508-ed731b15a853",
   "metadata": {},
   "source": [
    "### Using cuML + Kmeans"
   ]
  },
  {
   "cell_type": "code",
   "execution_count": null,
   "id": "ca5927f9-1874-44af-8a78-a5c8d5566812",
   "metadata": {
    "tags": []
   },
   "outputs": [],
   "source": [
    "# In order to generate a graph visualization of trips without each individual trip becoming a node, we need to cluster trips to fewerer nodes. Lets use cuML's K-Means.\n",
    "\n",
    "# Combine all lat values \n",
    "lat_df = cudf.DataFrame()\n",
    "lat_df['lat'] = cudf.concat([df['start_lat'], df['end_lat']], ignore_index=True)\n",
    "\n",
    "# Combine all lng values\n",
    "lng_df = cudf.DataFrame()\n",
    "lng_df['lng'] = cudf.concat([df['start_lng'], df['end_lng']], ignore_index=True)\n",
    "\n",
    "# Combine lat lng \n",
    "combined_lat_lng_df = cudf.concat([lat_df, lng_df], axis=1)\n"
   ]
  },
  {
   "cell_type": "code",
   "execution_count": null,
   "id": "3c92f936-2412-423b-ab92-3a2280398ad5",
   "metadata": {
    "tags": []
   },
   "outputs": [],
   "source": [
    "# Perform k-means clustering, from the approximate station count with a bit of headroom\n",
    "kmeans = cuml.cluster.KMeans(n_clusters=unique_stations.shape[0]+20, oversampling_factor=1.5, max_iter=300)\n",
    "\n",
    "# NOTE: This will take a few min on larger datasets\n",
    "kmeans.fit(combined_lat_lng_df)\n",
    "\n",
    "# Get the cluster labels\n",
    "cluster_labels = kmeans.labels_\n"
   ]
  },
  {
   "cell_type": "code",
   "execution_count": null,
   "id": "4cb3fe3b-d4b8-4ad0-b699-bc2a3d807eea",
   "metadata": {
    "tags": []
   },
   "outputs": [],
   "source": [
    "# Get the edge list from the computed clusters by splitting un-combining \n",
    "half_length = len(cluster_labels) // 2\n",
    "\n",
    "# Create edge list df\n",
    "edge_list_df = cudf.DataFrame({\n",
    "    'src': cluster_labels[:half_length].reset_index(drop=True).astype('int16'),\n",
    "    'dst': cluster_labels[half_length:].reset_index(drop=True).astype('int16')\n",
    "})\n",
    "\n",
    "# Check\n",
    "edge_list_df"
   ]
  },
  {
   "cell_type": "code",
   "execution_count": null,
   "id": "02186db2-a000-4c26-8f8b-6a5df6f8df99",
   "metadata": {
    "tags": []
   },
   "outputs": [],
   "source": [
    "# Get the cluster centers or Nodes\n",
    "node_centers_df = kmeans.cluster_centers_\n",
    "\n",
    "# Clean up\n",
    "node_centers_df = node_centers_df.rename(columns={0: 'node_lat', 1: 'node_lng'}).astype('float32')\n",
    "\n",
    "# Save node centers\n",
    "node_centers_df.to_parquet('./data/kmean_node_center.parquet') \n"
   ]
  },
  {
   "cell_type": "code",
   "execution_count": null,
   "id": "9e3d7916-34ee-4466-aec9-5545b6a3dc9c",
   "metadata": {
    "tags": []
   },
   "outputs": [],
   "source": [
    "# Add the edge list back into the original df\n",
    "df = cudf.concat([df, edge_list_df], axis=1)\n"
   ]
  },
  {
   "cell_type": "code",
   "execution_count": null,
   "id": "0ec39ae8-41d4-4aa8-86f1-6866291d2123",
   "metadata": {
    "tags": []
   },
   "outputs": [],
   "source": [
    "# Lets verify the clustering worked by overlaying each node with the previous station points and raster end trips map\n",
    "# Looks pretty good, as each node is within about a two block tolerance, but more importantly each point now is associated with a nearby node. Visually, purple means good overlap and more blue means better coverage.\n",
    "cluster_map = node_centers_df.hvplot.points(x='node_lng', y='node_lat', geo=True, tiles=False, projection=cartopy.crs.GOOGLE_MERCATOR, hover=False, width=800, height=600, color='blue', alpha=0.8)\n",
    "\n",
    "# Overlay multiple hvPlot geospatial plots using the * operator \n",
    "# NOTE: Only specify 'geo=True' once otherwise the map tiles overlay the data\n",
    "raster * cluster_map * station_points"
   ]
  },
  {
   "cell_type": "markdown",
   "id": "4cf54a7c-3eca-4446-ab3f-e0589652ef80",
   "metadata": {},
   "source": [
    "## Reduce and Save"
   ]
  },
  {
   "cell_type": "code",
   "execution_count": null,
   "id": "1a6822c6-d010-4719-9d61-9f140915f874",
   "metadata": {
    "tags": []
   },
   "outputs": [],
   "source": [
    "# The dataframe is becoming large, especially with float64 values. Now KMEANS is complete, we don't need that level of precision. \n",
    "# Save our original work to file\n",
    "df.to_parquet('./data/bike_df_full.parquet') \n",
    "\n",
    "# Reduce value type\n",
    "df_dur = df['dur_min'].astype('int16')\n",
    "\n",
    "# Reduce values to float32\n",
    "df_geo = df[['start_lat','start_lng','end_lat','end_lng']].astype('float32')\n",
    "\n",
    "# Drop redundant values\n",
    "df = df.drop(['start_lat','start_lng','end_lat','end_lng','dur_min'], axis=1)\n",
    "\n",
    "# Recombine\n",
    "df = cudf.concat([df,df_dur,df_geo], axis=1)\n",
    "\n",
    "# Save the minimized data to file\n",
    "df.to_parquet('./data/bike_df_clean.parquet') \n",
    "\n",
    "# Check dtypes\n",
    "df.dtypes"
   ]
  },
  {
   "cell_type": "markdown",
   "id": "617f6457-78d6-4a01-bca5-f2e53068acdd",
   "metadata": {},
   "source": [
    "### Transforming map projection"
   ]
  },
  {
   "cell_type": "code",
   "execution_count": null,
   "id": "3601aa0b-8851-4f42-a476-95b8d766900c",
   "metadata": {},
   "outputs": [],
   "source": [
    "# Reload the data if needed\n",
    "df = cudf.read_parquet('./data/bike_df_clean.parquet') \n",
    "\n",
    "# cuxfilter needs to explicitly transfrom the /lng projection system to 3857\n",
    "transform_4326_to_3857 = Transformer.from_crs('epsg:4326', 'epsg:3857')\n",
    "\n",
    "# Update the df\n",
    "df['end_lat'], df['end_lng'] = transform_4326_to_3857.transform(df['end_lat'].values_host, df['end_lng'].values_host)"
   ]
  },
  {
   "cell_type": "markdown",
   "id": "325299a0-8736-4084-b0ac-beeaee771e81",
   "metadata": {},
   "source": [
    "### Using cuGraph + ForceAtlas2"
   ]
  },
  {
   "cell_type": "code",
   "execution_count": null,
   "id": "6763b191-713a-4812-86a2-81df9eb172d2",
   "metadata": {},
   "outputs": [],
   "source": [
    "# Initalize cuGraph\n",
    "G = cugraph.Graph()\n",
    "\n",
    "# Create an edgelist from nodes in df\n",
    "G.from_cudf_edgelist(df, source='src', destination='dst')\n",
    "\n",
    "# Save out edgelist\n",
    "edges = G.edges()\n"
   ]
  },
  {
   "cell_type": "code",
   "execution_count": null,
   "id": "c9064e71-5452-4020-869d-bdaa95b2da8e",
   "metadata": {},
   "outputs": [],
   "source": [
    "# NOTE: It may take a few iterations to dial in the values\n",
    "ITERATIONS=600\n",
    "THETA=5.0\n",
    "OPTIMIZE=True\n",
    "\n",
    "# Using the previously created edge list, we calculate the FA2 layout positions\n",
    "trips_FA_df = cugraph.layout.force_atlas2(\n",
    "                    G, \n",
    "                    max_iter=ITERATIONS,\n",
    "                    strong_gravity_mode=True,\n",
    "                    outbound_attraction_distribution=False,\n",
    "                    lin_log_mode=False,\n",
    "                    barnes_hut_optimize=OPTIMIZE, \n",
    "                    barnes_hut_theta=THETA,\n",
    "                    verbose=False)\n"
   ]
  },
  {
   "cell_type": "code",
   "execution_count": null,
   "id": "a3384449-dea3-438d-a6ec-ea3cc7168e8c",
   "metadata": {
    "tags": []
   },
   "outputs": [],
   "source": [
    "# Combine previous df with the graph node FA2 positions\n",
    "graph_df = trips_FA_df.merge(\n",
    "                df,\n",
    "                left_on='vertex',\n",
    "                right_on='dst',\n",
    "                suffixes=('', '_original'))\n",
    "\n",
    "# Check df\n",
    "graph_df"
   ]
  },
  {
   "cell_type": "markdown",
   "id": "98227467-9c42-44c7-a465-de4934522d7d",
   "metadata": {},
   "source": [
    "### Using advanced cuxfilter spatial dashboards"
   ]
  },
  {
   "cell_type": "code",
   "execution_count": null,
   "id": "ea8293fd-f5f9-4b5a-b2a4-4b9e0a9c7a97",
   "metadata": {
    "tags": []
   },
   "outputs": [],
   "source": [
    "# FIX-NOTE: adding extension here explicitly RELOADS bokeh and all plots will work\n",
    "hvplot.extension('bokeh')"
   ]
  },
  {
   "cell_type": "code",
   "execution_count": null,
   "id": "5bcfbd77-3b3f-4085-856e-de7700f1c3d2",
   "metadata": {},
   "outputs": [],
   "source": [
    "# cuxfilter can quickly create complicated dashboards integrated with RAPIDS\n",
    "# In this instance, the clustering processes has worked and each corresponds well to other nearby nodes. We can also see several day/night, seasonal, and outward to inwards trip patterns emerge.\n",
    "# Specifying a cuxfilter graph chart type will use Datashader and its required parameters\n",
    "cx_df = cuxfilter.DataFrame.load_graph((graph_df, edges))\n",
    "\n",
    "# Graph chart with src and dst\n",
    "graph = cuxfilter.charts.graph(\n",
    "      edge_source='src', \n",
    "      edge_target='dst',\n",
    "      node_x='x',\n",
    "      node_y='y',\n",
    "      unselected_alpha=0.2,\n",
    "      edge_color_palette=['gray', 'black'],\n",
    "      node_pixel_shade_type='linear',\n",
    "      edge_transparency=0.2, \n",
    "      title='ForceAtlas2 Trip Graph'\n",
    "  )\n",
    "\n",
    "# Geospatial scatter chart\n",
    "scatter = cuxfilter.charts.scatter(\n",
    "        x='end_lat',\n",
    "        y='end_lng',\n",
    "        unselected_alpha=0.1,\n",
    "        pixel_shade_type='eq_hist',\n",
    "        tile_provider='CartoDark', \n",
    "        title='Trip Endpoints'\n",
    "    )\n",
    "\n",
    "# Bar and table charts\n",
    "bar1 = cuxfilter.charts.bar('dur_min', data_points=20 , title='Duration in Min')\n",
    "bar2 = cuxfilter.charts.bar('hour', title='Trips per Hour')\n",
    "bar3 = cuxfilter.charts.bar('day_of_week', title='Trips per Day of Week')\n",
    "bar4 = cuxfilter.charts.bar('month', title='Trips per Month')\n",
    "table1 = cuxfilter.charts.view_dataframe(['start_station_name','end_station_name'], drop_duplicates=True)\n",
    "\n",
    "# Custom layout as explained here: https://docs.rapids.ai/api/cuxfilter/stable/layouts/layouts/\n",
    "layout_array = [[1,1,1,2,2],\n",
    "                [3,4,5,6,7]]\n",
    "\n",
    "# Generate the dashboard, order the charts, select a layout, and set theme\n",
    "d = cx_df.dashboard([graph,scatter,bar1,bar2,bar3,bar4,table1], layout_array=layout_array, theme=cuxfilter.themes.rapids, title='Divvy Bike Trip Clustering')\n",
    "\n",
    "\n",
    "# d.show creates a button to open a dashboard in a full seperate tab\n",
    "# await d.preview() generates an static image preview\n",
    "# d.app() opens the app inline of the notebook\n",
    "# d.stop() stops the dashboard\n",
    "d.show()\n",
    "\n"
   ]
  },
  {
   "cell_type": "markdown",
   "id": "8efcc291-edd6-4c6f-ab17-572e9b099f5f",
   "metadata": {
    "tags": []
   },
   "source": [
    "### cuxfilter advanced cuxfilter spatial screenshot\n",
    "<img src=\"images/cuxfilter-graph.png\" style=\"width:50%\">"
   ]
  },
  {
   "cell_type": "markdown",
   "id": "7ab9962c-e948-44e9-979a-309c358eafc5",
   "metadata": {},
   "source": [
    "### Using Plotly Dash + cuGraph"
   ]
  },
  {
   "cell_type": "code",
   "execution_count": null,
   "id": "7194ee2d-6f31-499d-93b4-4f92d370c91d",
   "metadata": {
    "tags": []
   },
   "outputs": [],
   "source": [
    "# While the above cuxfilter dashboard is powerful, it needs to be simplified to make it more widely accessible and digestible.\n",
    "# Reload the data if needed\n",
    "df = cudf.read_parquet('./data/bike_df_clean.parquet')\n",
    "node_centers_df = cudf.read_parquet('./data/kmean_node_center.parquet') \n",
    "\n",
    "# Save only the required sections\n",
    "plotly_df = df[['rideable_type','member_casual','year','month','day','hour','day_of_week','src','dst']]\n",
    "\n",
    "# Check df\n",
    "plotly_df"
   ]
  },
  {
   "cell_type": "code",
   "execution_count": null,
   "id": "7fe57fab-d1ef-4511-a509-23609dd2cb77",
   "metadata": {},
   "outputs": [],
   "source": [
    "# By combining our analysis from above, we can encapsulate the findings in an easy to use, interactive, and fast dashboard.\n",
    "# Using the nodes generated from the Kmeans, we can calculate a real time PageRank using cuGraph for each destination node. This eliminates the business of the graph lines.\n",
    "# We can then map the nodes and show trip counts by node size. Drill down and filtering can be achieved with cross-filtered bar charts showing the day/night and weekday/weekend patterns. Further options can be side widgets. \n",
    "# All the complex and interactive-speed compute for a large dataset can be cast into an easy to use Plotly Dash app UI.\n",
    "\n",
    "# We are using the JupyterDash notebook capable Plotly Dash.\n",
    "# Python based Plotly Dash apps should use the `dash.Dash(__name__)` convention.\n",
    "app = JupyterDash(__name__)\n",
    "\n",
    "# The layout, UI, and styling is done here. Additional css and js can be automatically included by adding an '/assets' folder.\n",
    "app.layout = html.Div([\n",
    "        html.Div([\n",
    "            html.H2(\"Divvy Bikeshare\"),\n",
    "            html.H2(\"Ranking of Destinations\"),\n",
    "            html.H4(\"Total Selected Trips:\"),\n",
    "            html.H2(id = 'tripcount'),\n",
    "            html.H4(\"Year:\"),\n",
    "            dcc.Dropdown(id = 'year', options=sorted(plotly_df['year'].unique().to_pandas()), value='', clearable = True, style = {'color':'#3a97d3'}),\n",
    "            html.H4(\"Month:\"),\n",
    "            dcc.Dropdown(id = 'month', options=sorted(plotly_df['month'].unique().to_pandas()), value='', clearable = True, style = {'color':'#3a97d3'}),\n",
    "            html.H4(\"Bike Type:\"),\n",
    "            dcc.Dropdown(id = 'bikes', options=sorted(plotly_df['rideable_type'].unique().to_pandas()), value='', clearable = True, style = {'color':'#3a97d3'}),\n",
    "            html.H4(\"User Type:\"),\n",
    "            dcc.Dropdown(id = 'user', options=sorted(plotly_df['member_casual'].unique().to_pandas()), value='', clearable = True, style = {'color':'#3a97d3'})\n",
    "            ],\n",
    "            style = {\n",
    "                'z-index' : '99',\n",
    "                'font-family':'sans-serif',\n",
    "                'position': 'absolute',\n",
    "                'width': '15vw',\n",
    "                'height': 'calc(100vh - 3rem)',\n",
    "                'padding': '1em',\n",
    "                'background-color': '#3a97d3',\n",
    "                'color': '#f1f1f1',\n",
    "                'border-radius': '0.5rem',\n",
    "                'box-shadow': '5px 0px 3px 0px rgba(0,0,0,0.3)'\n",
    "            }\n",
    "        ),\n",
    "        html.Div([\n",
    "            html.Div([\n",
    "                html.H3(\"Area Importance PageRank(Color) by Trips(Size)\", style={'font-family':'sans-serif','color':'#3a97d3'}),\n",
    "                dcc.Graph(id = 'pagerank_plot', config = {'responsive': True, 'displaylogo': False, 'modeBarButtonsToRemove': ['select2d', 'lasso2d', 'toImage']})\n",
    "            ],\n",
    "            style = {\n",
    "                'display': 'inline-block',\n",
    "                'width': '70vw',\n",
    "                'vertical-align':'top'\n",
    "            }),\n",
    "            html.Div([\n",
    "                html.H3(\"Trips Per Day of Week\", style={'font-family':'sans-serif','color':'#3a97d3'}),\n",
    "                dcc.Graph(id = 'dow_plot', config = {'responsive': True, 'displaylogo': False, 'modeBarButtonsToRemove': ['zoom2d', 'zoomIn2d', 'zoomOut2d','toImage']})\n",
    "            ],\n",
    "            style = {\n",
    "                'display': 'inline-block',\n",
    "                'width': '35vw',\n",
    "                'vertical-align': 'bottom'\n",
    "            }),\n",
    "            html.Div([\n",
    "                html.H3(\"Trips Per Hour\", style={'font-family':'sans-serif','color':'#3a97d3'}),\n",
    "                dcc.Graph(id = 'hour_plot',config = {'responsive': True, 'displaylogo': False, 'modeBarButtonsToRemove': ['zoom2d', 'zoomIn2d', 'zoomOut2d','toImage']})\n",
    "            ],\n",
    "            style = {\n",
    "                'display': 'inline-block',\n",
    "                'width': '35vw',\n",
    "                'vertical-align': 'bottom'\n",
    "            })\n",
    "            ],\n",
    "            style = {\n",
    "                'width': '70vw',\n",
    "                'margin-left': '20vw',\n",
    "                'padding-top': '1em',\n",
    "                'display': 'inline-block',\n",
    "                'vertical-align': 'top',\n",
    "            })\n",
    "        ]\n",
    ")\n"
   ]
  },
  {
   "cell_type": "code",
   "execution_count": null,
   "id": "2fbc579c-57ae-445b-bca5-029a6245a73e",
   "metadata": {},
   "outputs": [],
   "source": [
    "# Function callbacks to update charts with the layout ID and type linking the input and output\n",
    "@app.callback(\n",
    "       [\n",
    "          Output('tripcount', 'children'),\n",
    "          Output('pagerank_plot', 'figure'),\n",
    "          Output('dow_plot', 'figure'),\n",
    "          Output('hour_plot', 'figure')\n",
    "        ],\n",
    "        [\n",
    "         Input('year', 'value'),\n",
    "         Input('month', 'value'), \n",
    "         Input('bikes', 'value'), \n",
    "         Input('user', 'value'), \n",
    "         Input('dow_plot', 'selectedData'),\n",
    "         Input('hour_plot', 'selectedData')\n",
    "       ]\n",
    ")\n",
    "def update_figure(year, month, bikes, user, dow_data, hour_data):\n",
    "    \n",
    "    # use\n",
    "    data = plotly_df\n",
    "\n",
    "    global hour_data_backup\n",
    "    global dow_data_backup\n",
    "\n",
    "    # NOTE: need to fix chart reset and multi-select filtering\n",
    "    \n",
    "    # condition to avoid a bug in plotly where selectedData is reset following a box-select\n",
    "    if (hour_data and len(hour_data[\"points\"]) > 0):\n",
    "        hour_data_backup = hour_data\n",
    "        data = data[(data['hour'] >= hour_data['range']['x'][0]) & (data['hour'] <= math.floor(hour_data['range']['x'][1]))]\n",
    "    elif ctx.triggered_id == \"hour_plot\":\n",
    "        raise PreventUpdate\n",
    "\n",
    "    if (dow_data and len(dow_data[\"points\"]) > 0):\n",
    "        dow_data_backup = dow_data\n",
    "        data = data[(data['day_of_week'] >= dow_data['range']['x'][0]) & (data['day_of_week'] <= math.floor(dow_data['range']['x'][1]))]  \n",
    "    elif ctx.triggered_id == \"dow_plot\":\n",
    "        raise PreventUpdate\n",
    "    \n",
    "    # NOTE: \n",
    "    if year is not None:\n",
    "        if year != '':\n",
    "            data = data[data['year'] == year]\n",
    "            \n",
    "    if month is not None:\n",
    "        if month != '':\n",
    "            data = data[data['month'] == month]\n",
    "\n",
    "    if bikes is not None:\n",
    "        if bikes != '':\n",
    "            data = data[data['rideable_type'] == bikes]\n",
    "    \n",
    "    if user is not None:\n",
    "        if user != '':\n",
    "            data = data[data['member_casual'] == user]    \n",
    "    \n",
    "    tripcount = '{:,}'.format(data.shape[0])\n",
    "    \n",
    "    pagerank_plot = get_pagerank_plot(data)\n",
    "    hour_plot = get_hour_chart(data)\n",
    "    dow_plot = get_dow_chart(data) \n",
    "\n",
    "    return tripcount, pagerank_plot, dow_plot, hour_plot"
   ]
  },
  {
   "cell_type": "code",
   "execution_count": null,
   "id": "5a183226-1795-4908-91c3-dc81df5c66f8",
   "metadata": {
    "tags": []
   },
   "outputs": [],
   "source": [
    "# Real time cuGraph PageRank calculation\n",
    "def calculate_page_rank(data):\n",
    "    G = cugraph.Graph()\n",
    "    G.from_cudf_edgelist(data, source='src', destination='dst', store_transposed=True)\n",
    "    data_rank = cugraph.pagerank(G)\n",
    "    return data_rank\n",
    "\n",
    "# Geospatial bubble chart using PageRank and Trip counts\n",
    "def get_pagerank_plot(data):\n",
    "    \n",
    "    # Get PageRanks\n",
    "    data_rank = calculate_page_rank(data)\n",
    "    \n",
    "    # Get trip counts\n",
    "    trips = data.groupby('dst').agg({'dst': 'size'}).rename(columns={'dst': 'arrivals'}).reset_index()\n",
    "    \n",
    "    # Combine\n",
    "    trips = trips.merge(data_rank, left_on='dst', right_on='vertex').drop(columns=['vertex'])\n",
    "    \n",
    "    # Plot bubble locations from node_centers_df calculated earlier\n",
    "    rank_chart = trips.merge(node_centers_df, left_on='dst', right_index=True).reset_index(drop=True)\n",
    "    \n",
    "    # Build chart\n",
    "    g = px.scatter_mapbox(rank_chart.to_pandas(), lat=\"node_lat\", lon=\"node_lng\", color=\"pagerank\", size='arrivals',\n",
    "                          hover_data=[\"pagerank\",\"dst\"], mapbox_style=\"carto-positron\",\n",
    "                          color_continuous_scale=px.colors.sequential.haline, size_max=20, zoom=10, height=800\n",
    "                         )\n",
    "    g.layout['uirevision'] = True\n",
    "    return g\n",
    "\n",
    "# Bar chart based on day of week\n",
    "def get_dow_chart(data):\n",
    "    # Group days\n",
    "    dow = df.groupby('day_of_week').size().rename(\"count\").reset_index()\n",
    "   \n",
    "    # Build chart\n",
    "    g = px.bar(dow.to_pandas(), \n",
    "               x=\"day_of_week\", y='count', template=dict(layout={'selectdirection': 'h',}), height=300\n",
    "              )\n",
    "    g.layout['dragmode']='select'\n",
    "    g.layout['uirevision'] = True\n",
    "    return g\n",
    "\n",
    "# Bar chart based on day of hour\n",
    "def get_hour_chart(data):\n",
    "    # Group hours\n",
    "    hour = df.groupby('hour').size().rename(\"count\").reset_index()\n",
    "   \n",
    "    # Build chart\n",
    "    g = px.bar(hour.to_pandas(), \n",
    "               x=\"hour\", y='count', template=dict(layout={'selectdirection': 'h',}), height=300\n",
    "              )\n",
    "    g.layout['dragmode']='select'\n",
    "    g.layout['uirevision'] = True\n",
    "    return g\n",
    "\n"
   ]
  },
  {
   "cell_type": "code",
   "execution_count": null,
   "id": "15ddeff2-eff7-46ec-9903-240520ff7df9",
   "metadata": {
    "tags": []
   },
   "outputs": [],
   "source": [
    "# NOTE: Any changes requires re-running all the Dash cells\n",
    "# Click on link below to open dashboard\n",
    "if __name__ == '__main__':\n",
    "    app.run_server(debug=True)\n"
   ]
  },
  {
   "cell_type": "markdown",
   "id": "994419af-11e7-4ca9-8e61-27828d11efb3",
   "metadata": {
    "tags": []
   },
   "source": [
    "### Plotly Dash screenshot\n",
    "<img src=\"images/plotly-dash-divvy.png\" style=\"width:50%\">"
   ]
  },
  {
   "cell_type": "markdown",
   "id": "fde82297-3de3-4f6f-a7b4-a69d7fd6ddf5",
   "metadata": {},
   "source": [
    "## Conclusion\n",
    "Searching for these sorts of insights becomes satisfying when visualization tools interact with large data at the “speed of thought.” By using GPU accelerated RAPIDS frameworks, and taking advantage of the simplicity to integrate accelerated visualization frameworks, data analytics workflows can become faster, more insightful, more productive, and just maybe more enjoyable."
   ]
  },
  {
   "cell_type": "markdown",
   "id": "55c6d356-4bf5-457c-8e27-a84d08a189b1",
   "metadata": {
    "editable": true,
    "slideshow": {
     "slide_type": ""
    },
    "tags": []
   },
   "source": [
    "## To Do\n",
    "Complete:\n",
    "- Fix plotly callback\n",
    "- Add conclusion\n",
    "\n",
    "Issues:\n",
    "- Juplyter lab needs to be 3.6.4 for hvPlot\n",
    "- FIX: use latest cuxfilter so can filter by string category (TBD)\n",
    "- FIX: cuxfilter / hvplot bokeh.js assets bug (TBD)\n",
    "- Include env yaml"
   ]
  },
  {
   "cell_type": "code",
   "execution_count": null,
   "id": "5afb3aad-f2cb-4278-92de-fe3ddc316c7a",
   "metadata": {},
   "outputs": [],
   "source": []
  }
 ],
 "metadata": {
  "kernelspec": {
   "display_name": "Python 3 (ipykernel)",
   "language": "python",
   "name": "python3"
  },
  "language_info": {
   "codemirror_mode": {
    "name": "ipython",
    "version": 3
   },
   "file_extension": ".py",
   "mimetype": "text/x-python",
   "name": "python",
   "nbconvert_exporter": "python",
   "pygments_lexer": "ipython3",
   "version": "3.10.11"
  }
 },
 "nbformat": 4,
 "nbformat_minor": 5
}
