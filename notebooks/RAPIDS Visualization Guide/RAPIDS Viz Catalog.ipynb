{
 "cells": [
  {
   "cell_type": "markdown",
   "id": "7baafd35-2e03-435c-8821-21d4f059cd42",
   "metadata": {
    "tags": []
   },
   "source": [
    "# RAPIDS Visualization Guide\n",
    "**RAPIDS libraries can easily fit in visualization workflows. This catalog of featured libraries offer direct cuDF support or easy integration.**\n",
    "\n",
    "<img src=\"images/datashader-census-rapids.png\" style=\"width:870px\">\n",
    "\n",
    "*[330 million+ datapoints rendered in under 1.5s via RAPIDS + Plotly Dash 2020 Census Demo](https://github.com/rapidsai/plotly-dash-rapids-census-demo)*"
   ]
  },
  {
   "cell_type": "markdown",
   "id": "ae5c3623-79ae-4a75-b96e-0e665816aede",
   "metadata": {
    "tags": []
   },
   "source": [
    "### Featured Libraries\n",
    "- **[HoloViews](#holoviews):** Declarative objects for quickly building complex interactive plots from high-level specifications. Directly uses cuDF.\n",
    "- **[hvPlot](#hvplot):** Quickly return interactive plots from cuDF, Pandas, Xarray, or other data structures. Just replace `.plot()` with `.hvplot()`.\n",
    "- **[Datashader](#datashader):** Rasterizing huge datasets quickly as scatter, line, geospatial, or graph charts. Directly uses cuDF.\n",
    "- **[Plotly](#plotly):** Charting library that supports Plotly Dash for building complex analytics applications. \n",
    "- **[Bokeh](#bokeh):** Charting library for building complex interactive visualizations.\n",
    "- **[Seaborn](#seaborn):** Static single charting library that extends matplotlib.\n",
    "\n",
    "### Other Notable Libraries\n",
    "- **[Panel](#panel):** A high-level app and dashboarding solution for the Python ecosystem.\n",
    "- **[PyDeck](#pydeck):** Python bindings for interactive spatial visualizations with webGL powered deck.gl, optimized for a Jupyter environment.\n",
    "- **[cuxfilter](#cuxfilter):** RAPIDS developed cross filtering dashboarding tool that integrates many of the libraries above.\n",
    "- **[node RAPIDS](#noderapids):** RAPIDS bindings in nodeJS, a high performance JS/TypeScript visualization alternative to using Python.\n"
   ]
  },
  {
   "cell_type": "markdown",
   "id": "019f0f3b-bcae-492f-94f2-5b4ea1d4fb3e",
   "metadata": {
    "tags": []
   },
   "source": [
    "### GPU Accelerated Interaction\n",
    "\n",
    "The below libraries directly use RAPIDS cuDF/Dask-cuDF and/or cuSpatial to create charts that support accelerated crossfiltering or rendering:\n",
    "- **[Holoviews with Linked Brushing](https://holoviews.org/user_guide/Linked_Brushing.html?highlight=linked%20brushing)**\n",
    "- **[Datashader](https://datashader.org/user_guide/Performance.html)**\n",
    "- **[Plotly Dash with Holoviews](https://dash.plotly.com/holoviews#gpu-accelerating-datashader-and-linked-selections-with-rapids)**\n",
    "- **[cuxfilter](https://github.com/rapidsai/cuxfilter)**"
   ]
  },
  {
   "cell_type": "markdown",
   "id": "6f002259-31eb-4b45-a980-94923b16e963",
   "metadata": {},
   "source": [
    "\n",
    "### **Note: Web Hosted Chart Interaction** \n",
    "When interacting with this page through a website, the interactive examples below are all **static and use pre-computed data.** To run a true interactive version, host through an **active** notebook instance.\n"
   ]
  },
  {
   "cell_type": "code",
   "execution_count": null,
   "id": "56a1e209-bdc1-416e-b224-ecd34cc23470",
   "metadata": {
    "tags": []
   },
   "outputs": [],
   "source": [
    "# Start Here to Run Locally Hosted Notebook\n",
    "import warnings\n",
    "warnings.simplefilter(\"ignore\")\n",
    "\n",
    "# Import common libraries\n",
    "import holoviews as hv\n",
    "import panel as pn\n",
    "\n",
    "pn.extension('plotly', 'deckgl')"
   ]
  },
  {
   "cell_type": "markdown",
   "id": "c36e06d2-f9cf-47e0-b9fc-49dcc607447c",
   "metadata": {
    "tags": []
   },
   "source": [
    "<br/><br/>\n",
    "# Featured Libraries"
   ]
  },
  {
   "cell_type": "markdown",
   "id": "f8cf1c0d-5bd2-4da0-a4e4-78fd90f8a326",
   "metadata": {
    "jp-MarkdownHeadingCollapsed": true,
    "tags": []
   },
   "source": [
    "<a id='holoviews'></a><br/>\n",
    "<img src=\"images/holoviews-logo.png\" style=\"width:150px; display:inline-block;\">\n",
    "<a href=\"https://holoviews.org/gallery/index.html\" target=\"_blank\" title=\"holoviews NYC taxi example\">\n",
    "<img src=\"images/nytaxi_hover.gif\" style=\"width:300px; display:inline-block; padding-left:20px;\"></a>\n",
    "\n",
    "- HoloViews is an open-source Python library designed to make data analysis and visualization seamless and simple. [See this diagram](https://holoviz.org/background.html#the-holoviz-ecosystem)  for an excellent architecture overview. \n",
    "- With HoloViews, you can usually express what you want to do in very few lines of code, letting you focus on what you are trying to explore and convey, not on the process of plotting.\n",
    "- Read about Holoviews at [holoviews.org](https://holoviews.org) and explore its gallery [holoviews.org/gallery/](https://holoviews.org/gallery/).\n",
    "- Read about [RAPIDS compatibilty](https://holoviews.org/reference_manual/holoviews.core.data.html?highlight=cudf#module-holoviews.core.data.cudf).\n",
    "\n",
    "**Run an interactive example and cpu / gpu code comparison below:**"
   ]
  },
  {
   "cell_type": "code",
   "execution_count": null,
   "id": "d5ab36a8-258f-4ebe-9309-dbb3f00e01b2",
   "metadata": {
    "tags": []
   },
   "outputs": [],
   "source": [
    "from examples.holoviews import Charts\n",
    "\n",
    "Charts().view()"
   ]
  },
  {
   "cell_type": "markdown",
   "id": "bdafa9d3-bc50-42e9-94ee-f5d25c2c978b",
   "metadata": {
    "tags": []
   },
   "source": [
    "<a id='hvplot'></a><br/>\n",
    "<img src=\"images/hvplot-logo.png\" style=\"width:90px; display:inline-block;\">\n",
    "<a href=\"https://hvplot.holoviz.org/reference/index.html\" target=\"_blank\" title=\"hvplot heat map example\">\n",
    "<img src=\"images/heatmap.png\" style=\"width:120px; display:inline-block; padding-left:20px;\"></a>\n",
    "\n",
    "- hvPlot provides an alternative for the static plotting API provided by Pandas and other libraries, with an interactive plotting API. Just replace `.plot()` with `.hvplot()`.\n",
    "- hvPlot can integrate neatly with the individual libraries if an extension mechanism for the native plot APIs is offered, or it can be used as a standalone component.   \n",
    "- Read about hvPlot at [holoviews.org](http://holoviews.org) and explore its gallery [hvplot.holoviz.org/reference/index.html](https://hvplot.holoviz.org/reference/index.html).\n",
    "- Read about [RAPIDS compatibility](https://hvplot.holoviz.org/user_guide/Introduction.html?highlight=rapids#).\n",
    "\n",
    "**Run an interactive example and cpu / gpu code comparison below:**"
   ]
  },
  {
   "cell_type": "code",
   "execution_count": null,
   "id": "c0256896-6fae-4029-96e3-a869d5f13152",
   "metadata": {
    "tags": []
   },
   "outputs": [],
   "source": [
    "from examples.hvplot import Charts\n",
    "\n",
    "Charts().view()"
   ]
  },
  {
   "cell_type": "markdown",
   "id": "aa7d42fd-b613-4c81-a702-c4c43ba178d8",
   "metadata": {
    "tags": []
   },
   "source": [
    "<a id='datashader'></a><br/>\n",
    "<img src=\"images/datashader-logo.png\" style=\"width:150px; display:inline-block;\">\n",
    "<a href=\"https://panel.holoviz.org/gallery/simple/clifford_interact.html\" target=\"_blank\" title=\"datashader clifford demo\">\n",
    "<img src=\"images/clifford_interact.png\" style=\"width:130px; display:inline-block; padding-left:20px;\"></a>\n",
    "\n",
    "- Datashader is a graphics pipeline system for creating meaningful representations of large datasets quickly and flexibly.\n",
    "- Datashader is able to render a variety of chart types statically, and interactively when combined with other libraries like HoloViews or cuxfilter.\n",
    "- Read about Datashader at [datashader.org](https://datashader.org) and explore its examples.\n",
    "- Read about [RAPIDS compatibility](https://datashader.org/user_guide/Performance.html?highlight=cudf#data-objects).\n",
    "\n",
    "**Run an interactive example and cpu / gpu code comparison below:**"
   ]
  },
  {
   "cell_type": "code",
   "execution_count": null,
   "id": "69bc0971-1d5b-4b46-87cf-111989b71b66",
   "metadata": {
    "tags": []
   },
   "outputs": [],
   "source": [
    "from examples.datashader import Charts\n",
    "\n",
    "Charts().view()"
   ]
  },
  {
   "cell_type": "markdown",
   "id": "d38f1a9a-d41b-4953-bf71-d607fcf65ffd",
   "metadata": {},
   "source": [
    "<a id='plotly'></a><br/>\n",
    "<img src=\"images/plotly-logo.png\" style=\"width:160px; vertical-align:middle;\"> \n",
    "<a href=\"https://dash.gallery/Portal/\" target=\"_blank\" title=\"plotly dash US Opioid Epidemic demo\">\n",
    "<img src=\"images/plotly-dash.png\" style=\"width:230px; display:inline-block; vertical-align:middle; padding-left:20px;\"></a>\n",
    "\n",
    "- Plotly provides browser based graphing, analytics, and statistics tools to create powerful applications.\n",
    "- Read about Plotly's Python charting library at [plotly.com/python/](https://plotly.com/python/) and explore the Plotly Dash gallery [ash.gallery/Portal/](https://dash.gallery/Portal/).\n",
    "- Read about [RAPIDS compatibility](https://dash.plotly.com/holoviews#gpu-accelerating-datashader-and-linked-selections-with-rapids).\n",
    "\n",
    "**Run an interactive example and cpu / gpu code comparison below:**"
   ]
  },
  {
   "cell_type": "code",
   "execution_count": null,
   "id": "8e42c66b-15cd-4349-8d21-9e35568097b4",
   "metadata": {
    "tags": []
   },
   "outputs": [],
   "source": [
    "from examples.plotly import Charts\n",
    "\n",
    "Charts().view()"
   ]
  },
  {
   "cell_type": "markdown",
   "id": "9c09739f-e941-4d47-950f-8fa49f79a55d",
   "metadata": {
    "tags": []
   },
   "source": [
    "<a id='bokeh'></a><br/>\n",
    "<img src=\"images/bokeh-logo.svg\" style=\"width:130px; display:inline-block; vertical-align:middle;\">\n",
    "<a href=\"https://docs.bokeh.org/en/latest/docs/gallery.html\" target=\"_blank\" title=\"bokeh blackbody radiation chart\">\n",
    "<img src=\"images/latex_blackbody_radiation.png\" style=\"width:130px; display:inline-block; vertical-align:middle; padding-left:20px;\"></a>\n",
    " \n",
    "- Bokeh makes it simple to create common interactive plots, but also can handle custom or specialized use-cases with tools and widgets.\n",
    "- Plots, dashboards, and apps can be published in web pages or Jupyter notebooks.\n",
    "- Read about Bokeh at [bokeh.org/](https://bokeh.org/) and explore its demo page [demo.bokeh.org/](https://demo.bokeh.org/).\n",
    "- Further [Documentation](https://docs.bokeh.org/en/latest/).\n",
    "\n",
    "**Run an interactive example and cpu / gpu code comparison below:**"
   ]
  },
  {
   "cell_type": "code",
   "execution_count": null,
   "id": "70e9c6af-7799-4efa-a4cb-991137bee7f6",
   "metadata": {
    "tags": []
   },
   "outputs": [],
   "source": [
    "from examples.bokeh import Charts\n",
    "\n",
    "Charts().view()"
   ]
  },
  {
   "cell_type": "markdown",
   "id": "1937575a-6b0d-4ca0-b761-9fc4b4f90519",
   "metadata": {},
   "source": [
    "<a id='seaborn'></a><br/>\n",
    "<img src=\"images/seaborn-logo.svg\" style=\"width:200px; display:inline-block; vertical-align:middle;\"> \n",
    "<a href=\"https://seaborn.pydata.org/examples/hexbin_marginals.html\" target=\"_blank\" title=\"seaborn hexbin example\">\n",
    "<img src=\"images/hexbin_marginals.png\" style=\"width:130px; display:inline-block; vertical-align:middle; padding-left:20px;\"></a>\n",
    "\n",
    "- Seaborn is a Python data visualization library based on [matplotlib](https://matplotlib.org/). It provides a high-level interface for drawing static charts.\n",
    "- Although not directly accelerated with GPU usage, it provides a base example of using a popular Python based visualization library with RAPIDS. \n",
    "- Read about Seaborn at [seaborn.pydata.org/](https://seaborn.pydata.org/) and explore its gallery [seaborn.pydata.org/examples/index.html](https://seaborn.pydata.org/examples/index.html).\n",
    "- Further [Documentation](https://seaborn.pydata.org/api.html).\n",
    "\n",
    "**Run an interactive example and cpu / gpu code comparison below:**"
   ]
  },
  {
   "cell_type": "code",
   "execution_count": null,
   "id": "d1e5e244-b151-49e8-b536-ab1febbfb73d",
   "metadata": {
    "tags": []
   },
   "outputs": [],
   "source": [
    "from examples.seaborn import Charts\n",
    "\n",
    "Charts().view()"
   ]
  },
  {
   "cell_type": "markdown",
   "id": "919a0c4c-75a3-471b-b63d-e358a2c1ee5b",
   "metadata": {},
   "source": [
    "<br/><br/>\n",
    "# Other Notable Libraries"
   ]
  },
  {
   "cell_type": "markdown",
   "id": "ee192067-dc00-425b-8e6a-428563d6f081",
   "metadata": {},
   "source": [
    "<a id='panel'></a><br/>\n",
    "<img src=\"images/panel-logo.png\" style=\"width:100px; display:inline-block; vertical-align:middle;\"> \n",
    "<a href=\"https://panel.holoviz.org/gallery/index.html\" target=\"_blank\" title=\"panel gapminder example\">\n",
    "<img src=\"images/gapminders.png\" style=\"width:210px; display:inline-block; vertical-align:middle; padding-left:20px;\"></a>\n",
    "\n",
    "- Panel is a Python library that lets you create custom interactive web apps and dashboards by connecting user-defined widgets to plots, images, tables, or text.\n",
    "- Panel -like holoViews, hvPlot, and datashader- is part of the [HoloViz Ecosystem](https://holoviz.org/).\n",
    "- Panel works well within the Python visualization ecosystem and is **what powers the interactive tools on this page**.\n",
    "- Read more about Panel at [panel.holoviz.org/](https://panel.holoviz.org/index.html) and explore its gallery [panel.holoviz.org/reference/](https://panel.holoviz.org/reference/index.html).\n",
    "- Further [Documentation](https://panel.holoviz.org/user_guide/index.html).\n"
   ]
  },
  {
   "cell_type": "markdown",
   "id": "6b0ce6cf-67ff-42ac-9d91-5ff380eae1f1",
   "metadata": {},
   "source": [
    "<a id='pydeck'></a><br/>\n",
    "<img src=\"images/pyDeck-logo.svg\" style=\"width:200px; display:inline-block; vertical-align:middle;\">\n",
    "<a href=\"https://deckgl.readthedocs.io/en/latest/layer.html\" target=\"_blank\" title=\"pydeck example page\">\n",
    "<img src=\"images/hexagon-layer.jpg\" style=\"width:140px; display:inline-block; vertical-align:middle; padding-left:20px;\"></a>\n",
    "\n",
    "\n",
    "- The pyDeck library is a set of Python bindings for making spatial visualizations with deck.gl, optimized for a Jupyter environment.\n",
    "- Learn more about its core deck.gl webGL based library a [deck.gl](https://deck.gl/).\n",
    "- Read about pyDeck at [pydeck.gl/](https://pydeck.gl/) and explore its gallery [pydeck gallery](https://pydeck.gl/#gallery).\n",
    "- Further [Documentation](https://pydeck.gl/layer.html).\n"
   ]
  },
  {
   "cell_type": "markdown",
   "id": "7231062b-4f55-4c0e-86a7-4198565b44eb",
   "metadata": {},
   "source": [
    "<a id='cuxfilter'></a><br/>\n",
    "<img src=\"https://rapids.ai/assets/images/RAPIDS-logo-white.png\" style=\"width:150px; display:inline-block; vertical-align:middle;\">\n",
    "<span style=\"color:#7400ff; font-size:2.5em; vertical-align: middle;\">cuxfilter</span>\n",
    "<a href=\"https://docs.rapids.ai/api/cuxfilter/nightly/examples/examples.html\" target=\"_blank\" title=\"cuxfilter example page\">\n",
    "<img src=\"images/cuxfilter-demo.gif\" style=\"width:220px; display:inline-block; vertical-align:middle; padding-left:20px;\"></a>\n",
    "\n",
    "- cuxfilter is a RAPIDS developed cross filtering library which enables GPU accelerated dashboards, using best in class charting libraries, with just a few lines of Python.\n",
    "- Read about cuxfilter at [github.com/rapidsai/cuxfilter](https://github.com/rapidsai/cuxfilter) and explore its examples [docs.rapids.ai/api/cuxfilter/stable/examples/examples.html](https://docs.rapids.ai/api/cuxfilter/stable/examples/examples.html).\n",
    "- Further [Documentation](https://docs.rapids.ai/api/cuxfilter/stable/10_minutes_to_cuxfilter.html).\n"
   ]
  },
  {
   "cell_type": "markdown",
   "id": "44c8e182-9ea2-4b56-b142-2ff72e70f5cd",
   "metadata": {},
   "source": [
    "<a id='noderapids'></a><br/>\n",
    "<img src=\"https://rapids.ai/assets/images/RAPIDS-logo-white.png\" style=\"width:150px; display:inline-block; vertical-align:middle;\">\n",
    "<span style=\"color:#7400ff; font-size:2.5em; vertical-align: middle;\">nodeRAPIDS</span>\n",
    "<a href=\"https://github.com/rapidsai/node/tree/main/modules/demo\" target=\"_blank\" title=\"nodeRAPIDS demo page\">\n",
    "<img src=\"images/nodeRAPIDS-streaming.png\" style=\"width:200px; display:inline-block; vertical-align:middle; padding-left:20px;\"></a>\n",
    "\n",
    "- node RAPIDS brings GPU acceleration to the nodeJS and JS/TypeScript user ecosystem.\n",
    "- Keep large datasets and complex compute processes in GPU memory while using the browser front end just for performant interactions.\n",
    "- node RAPIDS is [available on NPM](https://www.npmjs.com/package/@rapidsai/core?activeTab=dependents).\n",
    "- Read about node RAPIDS at [github.com/rapidsai/node ](https://github.com/rapidsai/node) and explore its demo gallery [github.com/rapidsai/node/tree/main/modules/demo](https://github.com/rapidsai/node/tree/main/modules/demo).\n",
    "- Further [Documentation](https://rapidsai.github.io/node/).\n",
    "\n"
   ]
  },
  {
   "cell_type": "markdown",
   "id": "e0133206-6934-4269-9845-f106b7d84a3d",
   "metadata": {},
   "source": [
    "<br/><br/><br/>"
   ]
  }
 ],
 "metadata": {
  "kernelspec": {
   "display_name": "Python 3 (ipykernel)",
   "language": "python",
   "name": "python3"
  },
  "language_info": {
   "codemirror_mode": {
    "name": "ipython",
    "version": 3
   },
   "file_extension": ".py",
   "mimetype": "text/x-python",
   "name": "python",
   "nbconvert_exporter": "python",
   "pygments_lexer": "ipython3",
   "version": "3.9.15"
  },
  "vscode": {
   "interpreter": {
    "hash": "f6aa187a6aaade5733ad3b5ff5c82df04fb0b3dfac03c5ad044e20fb4c7093be"
   }
  }
 },
 "nbformat": 4,
 "nbformat_minor": 5
}
