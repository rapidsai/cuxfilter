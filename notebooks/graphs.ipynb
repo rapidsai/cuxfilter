{
 "cells": [
  {
   "cell_type": "markdown",
   "metadata": {},
   "source": [
    "# Graph Examples - Protein Interaction dataset(minimized)"
   ]
  },
  {
   "cell_type": "markdown",
   "metadata": {},
   "source": [
    "## Import cuxfilter"
   ]
  },
  {
   "cell_type": "code",
   "execution_count": null,
   "metadata": {},
   "outputs": [],
   "source": [
    "import cuxfilter\n",
    "import cudf\n",
    "import cugraph\n",
    "import numpy as np, pandas as pd\n",
    "\n",
    "ITERATIONS=500\n",
    "THETA=1.0\n",
    "OPTIMIZE=True"
   ]
  },
  {
   "cell_type": "markdown",
   "metadata": {},
   "source": [
    "## Load required datasets"
   ]
  },
  {
   "cell_type": "code",
   "execution_count": null,
   "metadata": {},
   "outputs": [],
   "source": [
    "edges = cudf.read_csv('./data/edges.csv',)[['Source','Destination', 'edgeColor']]\n",
    "nodes = cudf.read_csv('./data/nodes.csv',)[['x', 'y', 'SYMBOL', 'Color']]\n",
    "nodes.Color = nodes.Color - nodes.Color.min()"
   ]
  },
  {
   "cell_type": "code",
   "execution_count": null,
   "metadata": {},
   "outputs": [],
   "source": [
    "nodes.head()"
   ]
  },
  {
   "cell_type": "code",
   "execution_count": null,
   "metadata": {},
   "outputs": [],
   "source": [
    "edges.head()"
   ]
  },
  {
   "cell_type": "markdown",
   "metadata": {},
   "source": [
    "## preprocess the data"
   ]
  },
  {
   "cell_type": "code",
   "execution_count": null,
   "metadata": {},
   "outputs": [],
   "source": [
    "edges.columns=[\"source\", \"destination\", 'color']\n",
    "\n",
    "G = cugraph.Graph()\n",
    "G.from_cudf_edgelist(edges)\n",
    "\n",
    "nodes_ = cugraph.layout.force_atlas2(G, max_iter=500,\n",
    "                strong_gravity_mode=False,\n",
    "                outbound_attraction_distribution=True,\n",
    "                lin_log_mode=False,\n",
    "                barnes_hut_optimize=OPTIMIZE, barnes_hut_theta=THETA, verbose=True)"
   ]
  },
  {
   "cell_type": "code",
   "execution_count": null,
   "metadata": {},
   "outputs": [],
   "source": [
    "nodes_1 = nodes_.merge(nodes, left_on='vertex', right_on='SYMBOL', suffixes=('', '_y'))[list(nodes.columns)]"
   ]
  },
  {
   "cell_type": "code",
   "execution_count": null,
   "metadata": {},
   "outputs": [],
   "source": [
    "nodes_1.head()"
   ]
  },
  {
   "cell_type": "markdown",
   "metadata": {},
   "source": [
    "## Define charts"
   ]
  },
  {
   "cell_type": "code",
   "execution_count": null,
   "metadata": {},
   "outputs": [],
   "source": [
    "cux_df = cuxfilter.DataFrame.load_graph((nodes_1, edges))"
   ]
  },
  {
   "cell_type": "code",
   "execution_count": null,
   "metadata": {},
   "outputs": [],
   "source": [
    "chart0 = cuxfilter.charts.graph(edge_target='destination',edge_color_palette=['gray', 'black'], \n",
    "                                            node_id='SYMBOL', timeout=200, edge_aggregate_col='color',\n",
    "                                            node_aggregate_col='Color', node_aggregate_fn='mean', node_pixel_shade_type='linear',\n",
    "                                            edge_render_type='direct',#other option available -> 'curved'\n",
    "                                            edge_transparency=0.5, unselected_alpha=0.2\n",
    "                                          )\n",
    "\n",
    "chart1 = cuxfilter.charts.bar(x='Color')"
   ]
  },
  {
   "cell_type": "markdown",
   "metadata": {},
   "source": [
    "## Create a dashboard object"
   ]
  },
  {
   "cell_type": "code",
   "execution_count": null,
   "metadata": {},
   "outputs": [],
   "source": [
    "d = cux_df.dashboard([chart0, chart1], layout=cuxfilter.layouts.double_feature)"
   ]
  },
  {
   "cell_type": "markdown",
   "metadata": {},
   "source": [
    "## Starting the dashboard"
   ]
  },
  {
   "cell_type": "markdown",
   "metadata": {},
   "source": [
    "1. d.show('current_notebook_url:current_notebook_port') remote dashboard\n",
    "\n",
    "2. d.app() inline within the notebook cell\n",
    "\n",
    "Incase you need to stop the server:\n",
    "\n",
    "- d.stop()"
   ]
  },
  {
   "cell_type": "code",
   "execution_count": null,
   "metadata": {},
   "outputs": [],
   "source": [
    "# d.show() # notebook_url=\"http://localhost:8888\"\n",
    "# d.app() # run the dashboard within the notebook cell"
   ]
  },
  {
   "cell_type": "markdown",
   "metadata": {},
   "source": [
    "![graphs](../docs/_images/graphs.png)"
   ]
  },
  {
   "cell_type": "markdown",
   "metadata": {},
   "source": [
    "## Export the queried data into a dataframe"
   ]
  },
  {
   "cell_type": "code",
   "execution_count": null,
   "metadata": {},
   "outputs": [],
   "source": [
    "queried_df = d.export()"
   ]
  }
 ],
 "metadata": {
  "kernelspec": {
   "display_name": "Python 3 (ipykernel)",
   "language": "python",
   "name": "python3"
  },
  "language_info": {
   "codemirror_mode": {
    "name": "ipython",
    "version": 3
   },
   "file_extension": ".py",
   "mimetype": "text/x-python",
   "name": "python",
   "nbconvert_exporter": "python",
   "pygments_lexer": "ipython3",
   "version": "3.10.12"
  }
 },
 "nbformat": 4,
 "nbformat_minor": 4
}
