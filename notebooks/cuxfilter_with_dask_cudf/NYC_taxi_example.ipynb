{
 "cells": [
  {
   "cell_type": "markdown",
   "metadata": {},
   "source": [
    "# NYC Taxi dashboard with cuxfilter and dask_cudf"
   ]
  },
  {
   "cell_type": "markdown",
   "metadata": {
    "tags": []
   },
   "source": [
    "## Import dask_cuda, dask"
   ]
  },
  {
   "cell_type": "code",
   "execution_count": null,
   "metadata": {},
   "outputs": [],
   "source": [
    "from dask.distributed import Client, wait\n",
    "from dask_cuda import LocalCUDACluster\n",
    "\n",
    "client = Client(LocalCUDACluster())"
   ]
  },
  {
   "cell_type": "markdown",
   "metadata": {},
   "source": [
    "### Display total available GPU resources"
   ]
  },
  {
   "cell_type": "code",
   "execution_count": 2,
   "metadata": {},
   "outputs": [
    {
     "name": "stdout",
     "output_type": "stream",
     "text": [
      "Total GPUs: 2\n",
      "\n",
      "NVIDIA TITAN RTX:\n",
      "\tMemory assigned: 15.63 GB, Total Memory: 24.00 GB\n",
      "Quadro GV100:\n",
      "\tMemory assigned: 15.63 GB, Total Memory: 32.00 GB\n"
     ]
    }
   ],
   "source": [
    "gpu_info = client.cluster.scheduler_info['workers'].values()\n",
    "\n",
    "print(f\"Total GPUs: {len(gpu_info)}\\n\")\n",
    "for gpu in gpu_info:\n",
    "    mem = f\"{gpu['memory_limit']/(1024 **3):.2f} GB\"\n",
    "    gpu_mem = f\"{gpu['gpu']['memory-total']/(1024 **3):.2f} GB\"\n",
    "    gpu_name = gpu['gpu']['name']\n",
    "    print(f\"{gpu_name}:\\n\\tMemory assigned: {mem}, Total Memory: {gpu_mem}\")"
   ]
  },
  {
   "cell_type": "markdown",
   "metadata": {},
   "source": [
    "## Import cuxfilter"
   ]
  },
  {
   "cell_type": "code",
   "execution_count": null,
   "metadata": {},
   "outputs": [],
   "source": [
    "import cuxfilter\n",
    "from bokeh import palettes\n",
    "from cuxfilter.layouts import feature_and_double_base\n",
    "from pyproj import Proj, Transformer\n",
    "import dask_cudf, cudf"
   ]
  },
  {
   "cell_type": "code",
   "execution_count": null,
   "metadata": {},
   "outputs": [],
   "source": [
    "#update data_dir if you have downloaded datasets elsewhere\n",
    "DATA_DIR = '../data'"
   ]
  },
  {
   "cell_type": "markdown",
   "metadata": {},
   "source": [
    "## Download required datasets"
   ]
  },
  {
   "cell_type": "code",
   "execution_count": null,
   "metadata": {},
   "outputs": [],
   "source": [
    "! curl https://data.rapids.ai/viz-data/nyc_taxi.tar.gz --create-dirs -o $DATA_DIR/nyc_taxi.tar.gz"
   ]
  },
  {
   "cell_type": "code",
   "execution_count": null,
   "metadata": {},
   "outputs": [],
   "source": [
    "from cuxfilter.sampledata import datasets_check\n",
    "datasets_check('nyc_taxi', base_dir=DATA_DIR)"
   ]
  },
  {
   "cell_type": "markdown",
   "metadata": {},
   "source": [
    "## Load required datasets using dask_cudf"
   ]
  },
  {
   "cell_type": "markdown",
   "metadata": {},
   "source": [
    "Using `dask_cudf.DataFrame.persist()` before passing it to cuxfilter.DataFrame turns a lazy Dask collection into a Dask collection with the same metadata, but now with the results fully computed or actively computing in the background. \n",
    "\n",
    "Passing a `dask_cudf.DataFrame` without `persist()` is also supported."
   ]
  },
  {
   "cell_type": "markdown",
   "metadata": {},
   "source": [
    "## preprocess the data"
   ]
  },
  {
   "cell_type": "code",
   "execution_count": 25,
   "metadata": {},
   "outputs": [
    {
     "data": {
      "text/html": [
       "<div>\n",
       "<style scoped>\n",
       "    .dataframe tbody tr th:only-of-type {\n",
       "        vertical-align: middle;\n",
       "    }\n",
       "\n",
       "    .dataframe tbody tr th {\n",
       "        vertical-align: top;\n",
       "    }\n",
       "\n",
       "    .dataframe thead th {\n",
       "        text-align: right;\n",
       "    }\n",
       "</style>\n",
       "<table border=\"1\" class=\"dataframe\">\n",
       "  <thead>\n",
       "    <tr style=\"text-align: right;\">\n",
       "      <th></th>\n",
       "      <th>VendorID</th>\n",
       "      <th>tpep_pickup_datetime</th>\n",
       "      <th>tpep_dropoff_datetime</th>\n",
       "      <th>passenger_count</th>\n",
       "      <th>trip_distance</th>\n",
       "      <th>pickup_longitude</th>\n",
       "      <th>pickup_latitude</th>\n",
       "      <th>RateCodeID</th>\n",
       "      <th>store_and_fwd_flag</th>\n",
       "      <th>payment_type</th>\n",
       "      <th>fare_amount</th>\n",
       "      <th>extra</th>\n",
       "      <th>mta_tax</th>\n",
       "      <th>tip_amount</th>\n",
       "      <th>tolls_amount</th>\n",
       "      <th>improvement_surcharge</th>\n",
       "      <th>total_amount</th>\n",
       "      <th>dropoff_x</th>\n",
       "      <th>dropoff_y</th>\n",
       "    </tr>\n",
       "  </thead>\n",
       "  <tbody>\n",
       "    <tr>\n",
       "      <th>0</th>\n",
       "      <td>2</td>\n",
       "      <td>2015-01-15</td>\n",
       "      <td>2015-01-15</td>\n",
       "      <td>1</td>\n",
       "      <td>1.59</td>\n",
       "      <td>-73.993896</td>\n",
       "      <td>40.750111</td>\n",
       "      <td>1</td>\n",
       "      <td>N</td>\n",
       "      <td>1</td>\n",
       "      <td>12.0</td>\n",
       "      <td>1.0</td>\n",
       "      <td>0.5</td>\n",
       "      <td>3.25</td>\n",
       "      <td>0.00</td>\n",
       "      <td>0.3</td>\n",
       "      <td>17.05</td>\n",
       "      <td>-8.234835e+06</td>\n",
       "      <td>4.975627e+06</td>\n",
       "    </tr>\n",
       "    <tr>\n",
       "      <th>1</th>\n",
       "      <td>1</td>\n",
       "      <td>2015-01-10</td>\n",
       "      <td>2015-01-10</td>\n",
       "      <td>1</td>\n",
       "      <td>3.30</td>\n",
       "      <td>-74.001648</td>\n",
       "      <td>40.724243</td>\n",
       "      <td>1</td>\n",
       "      <td>N</td>\n",
       "      <td>1</td>\n",
       "      <td>14.5</td>\n",
       "      <td>0.5</td>\n",
       "      <td>0.5</td>\n",
       "      <td>2.00</td>\n",
       "      <td>0.00</td>\n",
       "      <td>0.3</td>\n",
       "      <td>17.80</td>\n",
       "      <td>-8.237021e+06</td>\n",
       "      <td>4.976875e+06</td>\n",
       "    </tr>\n",
       "    <tr>\n",
       "      <th>3</th>\n",
       "      <td>1</td>\n",
       "      <td>2015-01-10</td>\n",
       "      <td>2015-01-10</td>\n",
       "      <td>1</td>\n",
       "      <td>0.50</td>\n",
       "      <td>-74.009087</td>\n",
       "      <td>40.713818</td>\n",
       "      <td>1</td>\n",
       "      <td>N</td>\n",
       "      <td>2</td>\n",
       "      <td>3.5</td>\n",
       "      <td>0.5</td>\n",
       "      <td>0.5</td>\n",
       "      <td>0.00</td>\n",
       "      <td>0.00</td>\n",
       "      <td>0.3</td>\n",
       "      <td>4.80</td>\n",
       "      <td>-8.238124e+06</td>\n",
       "      <td>4.971127e+06</td>\n",
       "    </tr>\n",
       "    <tr>\n",
       "      <th>4</th>\n",
       "      <td>1</td>\n",
       "      <td>2015-01-10</td>\n",
       "      <td>2015-01-10</td>\n",
       "      <td>1</td>\n",
       "      <td>3.00</td>\n",
       "      <td>-73.971176</td>\n",
       "      <td>40.762428</td>\n",
       "      <td>1</td>\n",
       "      <td>N</td>\n",
       "      <td>2</td>\n",
       "      <td>15.0</td>\n",
       "      <td>0.5</td>\n",
       "      <td>0.5</td>\n",
       "      <td>0.00</td>\n",
       "      <td>0.00</td>\n",
       "      <td>0.3</td>\n",
       "      <td>16.30</td>\n",
       "      <td>-8.238108e+06</td>\n",
       "      <td>4.974457e+06</td>\n",
       "    </tr>\n",
       "    <tr>\n",
       "      <th>5</th>\n",
       "      <td>1</td>\n",
       "      <td>2015-01-10</td>\n",
       "      <td>2015-01-10</td>\n",
       "      <td>1</td>\n",
       "      <td>9.00</td>\n",
       "      <td>-73.874374</td>\n",
       "      <td>40.774048</td>\n",
       "      <td>1</td>\n",
       "      <td>N</td>\n",
       "      <td>1</td>\n",
       "      <td>27.0</td>\n",
       "      <td>0.5</td>\n",
       "      <td>0.5</td>\n",
       "      <td>6.70</td>\n",
       "      <td>5.33</td>\n",
       "      <td>0.3</td>\n",
       "      <td>40.33</td>\n",
       "      <td>-8.236193e+06</td>\n",
       "      <td>4.976740e+06</td>\n",
       "    </tr>\n",
       "  </tbody>\n",
       "</table>\n",
       "</div>"
      ],
      "text/plain": [
       "   VendorID tpep_pickup_datetime tpep_dropoff_datetime  passenger_count  \\\n",
       "0         2           2015-01-15            2015-01-15                1   \n",
       "1         1           2015-01-10            2015-01-10                1   \n",
       "3         1           2015-01-10            2015-01-10                1   \n",
       "4         1           2015-01-10            2015-01-10                1   \n",
       "5         1           2015-01-10            2015-01-10                1   \n",
       "\n",
       "   trip_distance  pickup_longitude  pickup_latitude  RateCodeID  \\\n",
       "0           1.59        -73.993896        40.750111           1   \n",
       "1           3.30        -74.001648        40.724243           1   \n",
       "3           0.50        -74.009087        40.713818           1   \n",
       "4           3.00        -73.971176        40.762428           1   \n",
       "5           9.00        -73.874374        40.774048           1   \n",
       "\n",
       "  store_and_fwd_flag  payment_type  fare_amount  extra  mta_tax  tip_amount  \\\n",
       "0                  N             1         12.0    1.0      0.5        3.25   \n",
       "1                  N             1         14.5    0.5      0.5        2.00   \n",
       "3                  N             2          3.5    0.5      0.5        0.00   \n",
       "4                  N             2         15.0    0.5      0.5        0.00   \n",
       "5                  N             1         27.0    0.5      0.5        6.70   \n",
       "\n",
       "   tolls_amount  improvement_surcharge  total_amount     dropoff_x  \\\n",
       "0          0.00                    0.3         17.05 -8.234835e+06   \n",
       "1          0.00                    0.3         17.80 -8.237021e+06   \n",
       "3          0.00                    0.3          4.80 -8.238124e+06   \n",
       "4          0.00                    0.3         16.30 -8.238108e+06   \n",
       "5          5.33                    0.3         40.33 -8.236193e+06   \n",
       "\n",
       "      dropoff_y  \n",
       "0  4.975627e+06  \n",
       "1  4.976875e+06  \n",
       "3  4.971127e+06  \n",
       "4  4.974457e+06  \n",
       "5  4.976740e+06  "
      ]
     },
     "execution_count": 25,
     "metadata": {},
     "output_type": "execute_result"
    }
   ],
   "source": [
    "cudf_df = dask_cudf.read_csv('../data/nyc_taxi.csv')\n",
    "\n",
    "def apply_transformation(df):\n",
    "    # Apply transformation\n",
    "    transform_4326_to_3857 = Transformer.from_crs('epsg:4326', 'epsg:3857')\n",
    "    df['dropoff_x'], df['dropoff_y'] = transform_4326_to_3857.transform(\n",
    "                                                    df['dropoff_latitude'].values_host, df['dropoff_longitude'].values_host\n",
    "                                                )\n",
    "\n",
    "    df = df.drop(['dropoff_latitude', 'dropoff_longitude'], axis=1)\n",
    "    df = df.dropna(axis=0)\n",
    "\n",
    "    # Filter over Manhattan\n",
    "    df = df[\n",
    "        (df.dropoff_x > -8239910.23) & (df.dropoff_x < -8229529.24) & (df.dropoff_y > 4968481.34) & (df.dropoff_y < 4983152.92)\n",
    "    ]\n",
    "\n",
    "    df.tpep_pickup_datetime = cudf.to_datetime(df.tpep_pickup_datetime, format=\"%Y-%m-%d\")\n",
    "    df.tpep_dropoff_datetime = cudf.to_datetime(df.tpep_dropoff_datetime, format=\"%Y-%m-%d\")\n",
    "    return df\n",
    "\n",
    "\n",
    "cudf_df = cudf_df.map_partitions(apply_transformation).persist()\n",
    "\n",
    "cudf_df.head()"
   ]
  },
  {
   "cell_type": "markdown",
   "metadata": {},
   "source": [
    "## Read the dataset"
   ]
  },
  {
   "cell_type": "code",
   "execution_count": null,
   "metadata": {},
   "outputs": [],
   "source": [
    "cux_df = cuxfilter.DataFrame.from_dataframe(cudf_df)"
   ]
  },
  {
   "cell_type": "markdown",
   "metadata": {},
   "source": [
    "## Define charts"
   ]
  },
  {
   "cell_type": "code",
   "execution_count": null,
   "metadata": {},
   "outputs": [],
   "source": [
    "chart1 = cuxfilter.charts.scatter(x='dropoff_x',\n",
    "                                 y='dropoff_y',\n",
    "                                 aggregate_fn='mean',aggregate_col='payment_type', pixel_shade_type='log', legend_position='top_right',\n",
    "                                 tile_provider=\"CartoDark\", x_range=(-8239910.23,-8229529.24), y_range=(4968481.34,4983152.92))\n",
    "\n",
    "chart2 = cuxfilter.charts.bar('passenger_count', data_points=9)\n",
    "chart3 = cuxfilter.charts.bar('tpep_pickup_datetime')\n",
    "chart4 = cuxfilter.charts.date_range_slider('tpep_dropoff_datetime')"
   ]
  },
  {
   "cell_type": "markdown",
   "metadata": {},
   "source": [
    "## Create a dashboard object"
   ]
  },
  {
   "cell_type": "code",
   "execution_count": null,
   "metadata": {},
   "outputs": [],
   "source": [
    "d = cux_df.dashboard([chart1, chart2, chart3], sidebar=[chart4], layout=feature_and_double_base, theme=cuxfilter.themes.dark, title= 'NYC TAXI DATASET')"
   ]
  },
  {
   "cell_type": "markdown",
   "metadata": {},
   "source": [
    "## Starting the dashboard"
   ]
  },
  {
   "cell_type": "markdown",
   "metadata": {},
   "source": [
    "1. d.show('current_notebook_url:current_notebook_port') remote dashboard\n",
    "\n",
    "2. d.app() inline within the notebook cell\n",
    "\n",
    "Incase you need to stop the server:\n",
    "\n",
    "- d.stop()"
   ]
  },
  {
   "cell_type": "code",
   "execution_count": null,
   "metadata": {},
   "outputs": [],
   "source": [
    "# d.show() # notebook_url=\"http://localhost:8888\"\n",
    "# d.app() # run the dashboard within the notebook cell"
   ]
  },
  {
   "cell_type": "markdown",
   "metadata": {},
   "source": [
    "![nyc-taxi](../../docs/_images/nyc-taxi.png)"
   ]
  },
  {
   "cell_type": "markdown",
   "metadata": {},
   "source": [
    "## Export the queried data into a dataframe"
   ]
  },
  {
   "cell_type": "code",
   "execution_count": null,
   "metadata": {},
   "outputs": [],
   "source": [
    "queried_df = d.export()"
   ]
  }
 ],
 "metadata": {
  "kernelspec": {
   "display_name": "Python 3 (ipykernel)",
   "language": "python",
   "name": "python3"
  },
  "language_info": {
   "codemirror_mode": {
    "name": "ipython",
    "version": 3
   },
   "file_extension": ".py",
   "mimetype": "text/x-python",
   "name": "python",
   "nbconvert_exporter": "python",
   "pygments_lexer": "ipython3",
   "version": "3.10.12"
  }
 },
 "nbformat": 4,
 "nbformat_minor": 4
}
